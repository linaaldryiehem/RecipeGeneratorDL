{
  "nbformat": 4,
  "nbformat_minor": 0,
  "metadata": {
    "colab": {
      "provenance": [],
      "gpuType": "V28",
      "machine_shape": "hm"
    },
    "kernelspec": {
      "name": "python3",
      "display_name": "Python 3"
    },
    "language_info": {
      "name": "python"
    },
    "accelerator": "TPU"
  },
  "cells": [
    {
      "cell_type": "markdown",
      "source": [
        "# Recipe Generator using TensorFlow library - RNN based approach"
      ],
      "metadata": {
        "id": "AQN2BBLhRkio"
      }
    },
    {
      "cell_type": "markdown",
      "source": [
        "The task for the project is all about building a simple recipe generator using RNN. The dataset utilized is an open-source data from Kaggle that contains approximetly 1099 recipes with its name, ingredients, directions, cooking time, prep time and much more.\n",
        "However, for this project, we make use of three main features which are ingredients, directions, and recipe name.\n",
        "User can enter one or more of the previous features as a prompt, and the model\n",
        "generates the rest of the recipe, or a whole recipe if prompted an ingredient only.\n"
      ],
      "metadata": {
        "id": "tm1JdCFXRwx5"
      }
    },
    {
      "cell_type": "markdown",
      "source": [
        "# Reading and Exploring the Dataset\n",
        "In this section, we start slowly by getting to know the data, understanding its shape and distribution as well as preform some mild pre-processing.\n",
        "The dataset utilized in this task is a web-extracted dataset."
      ],
      "metadata": {
        "id": "2i-V-I48iVRX"
      }
    },
    {
      "cell_type": "markdown",
      "source": [
        "Import all the necessary libraries."
      ],
      "metadata": {
        "id": "kIksQ1jGUHdG"
      }
    },
    {
      "cell_type": "code",
      "execution_count": null,
      "metadata": {
        "id": "eDQcITpfvk8s"
      },
      "outputs": [],
      "source": [
        "# Packages for training the model and working with the dataset.\n",
        "import tensorflow as tf\n",
        "import matplotlib.pyplot as plt\n",
        "import numpy as np\n",
        "import pandas as pd\n",
        "import platform\n"
      ]
    },
    {
      "cell_type": "markdown",
      "source": [
        "Make sure which python and Tensorflow version we're using (to ensure compatability with Google colab's TPU)"
      ],
      "metadata": {
        "id": "UVFkDbWNULEr"
      }
    },
    {
      "cell_type": "code",
      "source": [
        "print('Python version:', platform.python_version())\n",
        "print('Tensorflow version:', tf.__version__)"
      ],
      "metadata": {
        "colab": {
          "base_uri": "https://localhost:8080/"
        },
        "id": "893H9GwfvnpS",
        "outputId": "1722b380-1c4b-4f2d-b074-852a0c0e1ba5"
      },
      "execution_count": null,
      "outputs": [
        {
          "output_type": "stream",
          "name": "stdout",
          "text": [
            "Python version: 3.10.12\n",
            "Tensorflow version: 2.15.0\n"
          ]
        }
      ]
    },
    {
      "cell_type": "markdown",
      "source": [
        "Download the dataset, and convert it into a dataframe for pre-processing and visualization purposes."
      ],
      "metadata": {
        "id": "m4__ZzsaUUcq"
      }
    },
    {
      "cell_type": "code",
      "source": [
        "df = pd.read_csv('/content/recipes.csv')\n",
        "df.head()"
      ],
      "metadata": {
        "colab": {
          "base_uri": "https://localhost:8080/",
          "height": 746
        },
        "id": "Vk4psdn4f7MD",
        "outputId": "e4c45e89-050f-4cd0-8219-a5f117bd461f"
      },
      "execution_count": null,
      "outputs": [
        {
          "output_type": "execute_result",
          "data": {
            "text/plain": [
              "   Unnamed: 0                  recipe_name prep_time cook_time     total_time  \\\n",
              "0           0     Apple-Cranberry Crostada       NaN       NaN            NaN   \n",
              "1           1    Apple Pie by Grandma Ople   30 mins     1 hrs  1 hrs 30 mins   \n",
              "2           2  Sarah's Homemade Applesauce   10 mins   15 mins        25 mins   \n",
              "3           3                  Apple Crisp   30 mins   45 mins  1 hrs 15 mins   \n",
              "4           4            Apple Pie Filling   20 mins   20 mins  2 hrs 40 mins   \n",
              "\n",
              "   servings              yield  \\\n",
              "0         8  6 to 8 - servings   \n",
              "1         8       1 9-inch pie   \n",
              "2         4                NaN   \n",
              "3        12    1 9x13-inch pan   \n",
              "4        40      5 9-inch pies   \n",
              "\n",
              "                                         ingredients  \\\n",
              "0  3 tablespoons butter, 2 pounds Granny Smith ap...   \n",
              "1  8 small Granny Smith apples, or as needed, ½ c...   \n",
              "2  4  apples - peeled, cored and chopped, ¾ cup w...   \n",
              "3  10 cups all-purpose apples, peeled, cored and ...   \n",
              "4  18 cups thinly sliced apples, 3 tablespoons le...   \n",
              "\n",
              "                                          directions  rating  \\\n",
              "0  Heat butter in a large skillet over medium-hig...     4.4   \n",
              "1  Peel and core apples, then thinly slice. Set a...     4.8   \n",
              "2  Combine apples, water, sugar, and cinnamon in ...     4.8   \n",
              "3  Preheat the oven to 350 degrees F (175 degrees...     4.7   \n",
              "4  Toss apples with lemon juice in a large bowl a...     4.7   \n",
              "\n",
              "                                                 url  \\\n",
              "0  https://www.allrecipes.com/recipe/76931/apple-...   \n",
              "1  https://www.allrecipes.com/recipe/12682/apple-...   \n",
              "2  https://www.allrecipes.com/recipe/51301/sarahs...   \n",
              "3  https://www.allrecipes.com/recipe/12409/apple-...   \n",
              "4  https://www.allrecipes.com/recipe/12681/apple-...   \n",
              "\n",
              "                                        cuisine_path  \\\n",
              "0    /Desserts/Fruit Desserts/Apple Dessert Recipes/   \n",
              "1                  /Desserts/Pies/Apple Pie Recipes/   \n",
              "2                     /Side Dish/Applesauce Recipes/   \n",
              "3  /Desserts/Crisps and Crumbles Recipes/Apple Cr...   \n",
              "4                  /Desserts/Pies/Apple Pie Recipes/   \n",
              "\n",
              "                                           nutrition  \\\n",
              "0  Total Fat 18g 23%, Saturated Fat 7g 34%, Chole...   \n",
              "1  Total Fat 19g 24%, Saturated Fat 9g 46%, Chole...   \n",
              "2  Total Fat 0g 0%, Sodium 3mg 0%, Total Carbohyd...   \n",
              "3  Total Fat 8g 11%, Saturated Fat 5g 25%, Choles...   \n",
              "4  Total Fat 0g 0%, Sodium 61mg 3%, Total Carbohy...   \n",
              "\n",
              "                                              timing  \\\n",
              "0              Servings: 8, Yield: 6 to 8 - servings   \n",
              "1  Prep Time: 30 mins, Cook Time: 1 hrs, Total Ti...   \n",
              "2  Prep Time: 10 mins, Cook Time: 15 mins, Total ...   \n",
              "3  Prep Time: 30 mins, Cook Time: 45 mins, Total ...   \n",
              "4  Prep Time: 20 mins, Cook Time: 20 mins, Additi...   \n",
              "\n",
              "                                             img_src  \n",
              "0  https://www.allrecipes.com/thmb/Tf1wH73bfH6Oql...  \n",
              "1  https://www.allrecipes.com/thmb/1I95oiTGz6aEpu...  \n",
              "2  https://www.allrecipes.com/thmb/VY5d0tZHB8xz6y...  \n",
              "3  https://www.allrecipes.com/thmb/uAzhPOh86PfR-N...  \n",
              "4  https://www.allrecipes.com/thmb/c0bbYaS1V_mTt_...  "
            ],
            "text/html": [
              "\n",
              "  <div id=\"df-ccf499a5-a278-4032-b0b8-8725239c76da\" class=\"colab-df-container\">\n",
              "    <div>\n",
              "<style scoped>\n",
              "    .dataframe tbody tr th:only-of-type {\n",
              "        vertical-align: middle;\n",
              "    }\n",
              "\n",
              "    .dataframe tbody tr th {\n",
              "        vertical-align: top;\n",
              "    }\n",
              "\n",
              "    .dataframe thead th {\n",
              "        text-align: right;\n",
              "    }\n",
              "</style>\n",
              "<table border=\"1\" class=\"dataframe\">\n",
              "  <thead>\n",
              "    <tr style=\"text-align: right;\">\n",
              "      <th></th>\n",
              "      <th>Unnamed: 0</th>\n",
              "      <th>recipe_name</th>\n",
              "      <th>prep_time</th>\n",
              "      <th>cook_time</th>\n",
              "      <th>total_time</th>\n",
              "      <th>servings</th>\n",
              "      <th>yield</th>\n",
              "      <th>ingredients</th>\n",
              "      <th>directions</th>\n",
              "      <th>rating</th>\n",
              "      <th>url</th>\n",
              "      <th>cuisine_path</th>\n",
              "      <th>nutrition</th>\n",
              "      <th>timing</th>\n",
              "      <th>img_src</th>\n",
              "    </tr>\n",
              "  </thead>\n",
              "  <tbody>\n",
              "    <tr>\n",
              "      <th>0</th>\n",
              "      <td>0</td>\n",
              "      <td>Apple-Cranberry Crostada</td>\n",
              "      <td>NaN</td>\n",
              "      <td>NaN</td>\n",
              "      <td>NaN</td>\n",
              "      <td>8</td>\n",
              "      <td>6 to 8 - servings</td>\n",
              "      <td>3 tablespoons butter, 2 pounds Granny Smith ap...</td>\n",
              "      <td>Heat butter in a large skillet over medium-hig...</td>\n",
              "      <td>4.4</td>\n",
              "      <td>https://www.allrecipes.com/recipe/76931/apple-...</td>\n",
              "      <td>/Desserts/Fruit Desserts/Apple Dessert Recipes/</td>\n",
              "      <td>Total Fat 18g 23%, Saturated Fat 7g 34%, Chole...</td>\n",
              "      <td>Servings: 8, Yield: 6 to 8 - servings</td>\n",
              "      <td>https://www.allrecipes.com/thmb/Tf1wH73bfH6Oql...</td>\n",
              "    </tr>\n",
              "    <tr>\n",
              "      <th>1</th>\n",
              "      <td>1</td>\n",
              "      <td>Apple Pie by Grandma Ople</td>\n",
              "      <td>30 mins</td>\n",
              "      <td>1 hrs</td>\n",
              "      <td>1 hrs 30 mins</td>\n",
              "      <td>8</td>\n",
              "      <td>1 9-inch pie</td>\n",
              "      <td>8 small Granny Smith apples, or as needed, ½ c...</td>\n",
              "      <td>Peel and core apples, then thinly slice. Set a...</td>\n",
              "      <td>4.8</td>\n",
              "      <td>https://www.allrecipes.com/recipe/12682/apple-...</td>\n",
              "      <td>/Desserts/Pies/Apple Pie Recipes/</td>\n",
              "      <td>Total Fat 19g 24%, Saturated Fat 9g 46%, Chole...</td>\n",
              "      <td>Prep Time: 30 mins, Cook Time: 1 hrs, Total Ti...</td>\n",
              "      <td>https://www.allrecipes.com/thmb/1I95oiTGz6aEpu...</td>\n",
              "    </tr>\n",
              "    <tr>\n",
              "      <th>2</th>\n",
              "      <td>2</td>\n",
              "      <td>Sarah's Homemade Applesauce</td>\n",
              "      <td>10 mins</td>\n",
              "      <td>15 mins</td>\n",
              "      <td>25 mins</td>\n",
              "      <td>4</td>\n",
              "      <td>NaN</td>\n",
              "      <td>4  apples - peeled, cored and chopped, ¾ cup w...</td>\n",
              "      <td>Combine apples, water, sugar, and cinnamon in ...</td>\n",
              "      <td>4.8</td>\n",
              "      <td>https://www.allrecipes.com/recipe/51301/sarahs...</td>\n",
              "      <td>/Side Dish/Applesauce Recipes/</td>\n",
              "      <td>Total Fat 0g 0%, Sodium 3mg 0%, Total Carbohyd...</td>\n",
              "      <td>Prep Time: 10 mins, Cook Time: 15 mins, Total ...</td>\n",
              "      <td>https://www.allrecipes.com/thmb/VY5d0tZHB8xz6y...</td>\n",
              "    </tr>\n",
              "    <tr>\n",
              "      <th>3</th>\n",
              "      <td>3</td>\n",
              "      <td>Apple Crisp</td>\n",
              "      <td>30 mins</td>\n",
              "      <td>45 mins</td>\n",
              "      <td>1 hrs 15 mins</td>\n",
              "      <td>12</td>\n",
              "      <td>1 9x13-inch pan</td>\n",
              "      <td>10 cups all-purpose apples, peeled, cored and ...</td>\n",
              "      <td>Preheat the oven to 350 degrees F (175 degrees...</td>\n",
              "      <td>4.7</td>\n",
              "      <td>https://www.allrecipes.com/recipe/12409/apple-...</td>\n",
              "      <td>/Desserts/Crisps and Crumbles Recipes/Apple Cr...</td>\n",
              "      <td>Total Fat 8g 11%, Saturated Fat 5g 25%, Choles...</td>\n",
              "      <td>Prep Time: 30 mins, Cook Time: 45 mins, Total ...</td>\n",
              "      <td>https://www.allrecipes.com/thmb/uAzhPOh86PfR-N...</td>\n",
              "    </tr>\n",
              "    <tr>\n",
              "      <th>4</th>\n",
              "      <td>4</td>\n",
              "      <td>Apple Pie Filling</td>\n",
              "      <td>20 mins</td>\n",
              "      <td>20 mins</td>\n",
              "      <td>2 hrs 40 mins</td>\n",
              "      <td>40</td>\n",
              "      <td>5 9-inch pies</td>\n",
              "      <td>18 cups thinly sliced apples, 3 tablespoons le...</td>\n",
              "      <td>Toss apples with lemon juice in a large bowl a...</td>\n",
              "      <td>4.7</td>\n",
              "      <td>https://www.allrecipes.com/recipe/12681/apple-...</td>\n",
              "      <td>/Desserts/Pies/Apple Pie Recipes/</td>\n",
              "      <td>Total Fat 0g 0%, Sodium 61mg 3%, Total Carbohy...</td>\n",
              "      <td>Prep Time: 20 mins, Cook Time: 20 mins, Additi...</td>\n",
              "      <td>https://www.allrecipes.com/thmb/c0bbYaS1V_mTt_...</td>\n",
              "    </tr>\n",
              "  </tbody>\n",
              "</table>\n",
              "</div>\n",
              "    <div class=\"colab-df-buttons\">\n",
              "\n",
              "  <div class=\"colab-df-container\">\n",
              "    <button class=\"colab-df-convert\" onclick=\"convertToInteractive('df-ccf499a5-a278-4032-b0b8-8725239c76da')\"\n",
              "            title=\"Convert this dataframe to an interactive table.\"\n",
              "            style=\"display:none;\">\n",
              "\n",
              "  <svg xmlns=\"http://www.w3.org/2000/svg\" height=\"24px\" viewBox=\"0 -960 960 960\">\n",
              "    <path d=\"M120-120v-720h720v720H120Zm60-500h600v-160H180v160Zm220 220h160v-160H400v160Zm0 220h160v-160H400v160ZM180-400h160v-160H180v160Zm440 0h160v-160H620v160ZM180-180h160v-160H180v160Zm440 0h160v-160H620v160Z\"/>\n",
              "  </svg>\n",
              "    </button>\n",
              "\n",
              "  <style>\n",
              "    .colab-df-container {\n",
              "      display:flex;\n",
              "      gap: 12px;\n",
              "    }\n",
              "\n",
              "    .colab-df-convert {\n",
              "      background-color: #E8F0FE;\n",
              "      border: none;\n",
              "      border-radius: 50%;\n",
              "      cursor: pointer;\n",
              "      display: none;\n",
              "      fill: #1967D2;\n",
              "      height: 32px;\n",
              "      padding: 0 0 0 0;\n",
              "      width: 32px;\n",
              "    }\n",
              "\n",
              "    .colab-df-convert:hover {\n",
              "      background-color: #E2EBFA;\n",
              "      box-shadow: 0px 1px 2px rgba(60, 64, 67, 0.3), 0px 1px 3px 1px rgba(60, 64, 67, 0.15);\n",
              "      fill: #174EA6;\n",
              "    }\n",
              "\n",
              "    .colab-df-buttons div {\n",
              "      margin-bottom: 4px;\n",
              "    }\n",
              "\n",
              "    [theme=dark] .colab-df-convert {\n",
              "      background-color: #3B4455;\n",
              "      fill: #D2E3FC;\n",
              "    }\n",
              "\n",
              "    [theme=dark] .colab-df-convert:hover {\n",
              "      background-color: #434B5C;\n",
              "      box-shadow: 0px 1px 3px 1px rgba(0, 0, 0, 0.15);\n",
              "      filter: drop-shadow(0px 1px 2px rgba(0, 0, 0, 0.3));\n",
              "      fill: #FFFFFF;\n",
              "    }\n",
              "  </style>\n",
              "\n",
              "    <script>\n",
              "      const buttonEl =\n",
              "        document.querySelector('#df-ccf499a5-a278-4032-b0b8-8725239c76da button.colab-df-convert');\n",
              "      buttonEl.style.display =\n",
              "        google.colab.kernel.accessAllowed ? 'block' : 'none';\n",
              "\n",
              "      async function convertToInteractive(key) {\n",
              "        const element = document.querySelector('#df-ccf499a5-a278-4032-b0b8-8725239c76da');\n",
              "        const dataTable =\n",
              "          await google.colab.kernel.invokeFunction('convertToInteractive',\n",
              "                                                    [key], {});\n",
              "        if (!dataTable) return;\n",
              "\n",
              "        const docLinkHtml = 'Like what you see? Visit the ' +\n",
              "          '<a target=\"_blank\" href=https://colab.research.google.com/notebooks/data_table.ipynb>data table notebook</a>'\n",
              "          + ' to learn more about interactive tables.';\n",
              "        element.innerHTML = '';\n",
              "        dataTable['output_type'] = 'display_data';\n",
              "        await google.colab.output.renderOutput(dataTable, element);\n",
              "        const docLink = document.createElement('div');\n",
              "        docLink.innerHTML = docLinkHtml;\n",
              "        element.appendChild(docLink);\n",
              "      }\n",
              "    </script>\n",
              "  </div>\n",
              "\n",
              "\n",
              "<div id=\"df-eee76a7a-cfc1-4f15-b335-4b280ace416e\">\n",
              "  <button class=\"colab-df-quickchart\" onclick=\"quickchart('df-eee76a7a-cfc1-4f15-b335-4b280ace416e')\"\n",
              "            title=\"Suggest charts\"\n",
              "            style=\"display:none;\">\n",
              "\n",
              "<svg xmlns=\"http://www.w3.org/2000/svg\" height=\"24px\"viewBox=\"0 0 24 24\"\n",
              "     width=\"24px\">\n",
              "    <g>\n",
              "        <path d=\"M19 3H5c-1.1 0-2 .9-2 2v14c0 1.1.9 2 2 2h14c1.1 0 2-.9 2-2V5c0-1.1-.9-2-2-2zM9 17H7v-7h2v7zm4 0h-2V7h2v10zm4 0h-2v-4h2v4z\"/>\n",
              "    </g>\n",
              "</svg>\n",
              "  </button>\n",
              "\n",
              "<style>\n",
              "  .colab-df-quickchart {\n",
              "      --bg-color: #E8F0FE;\n",
              "      --fill-color: #1967D2;\n",
              "      --hover-bg-color: #E2EBFA;\n",
              "      --hover-fill-color: #174EA6;\n",
              "      --disabled-fill-color: #AAA;\n",
              "      --disabled-bg-color: #DDD;\n",
              "  }\n",
              "\n",
              "  [theme=dark] .colab-df-quickchart {\n",
              "      --bg-color: #3B4455;\n",
              "      --fill-color: #D2E3FC;\n",
              "      --hover-bg-color: #434B5C;\n",
              "      --hover-fill-color: #FFFFFF;\n",
              "      --disabled-bg-color: #3B4455;\n",
              "      --disabled-fill-color: #666;\n",
              "  }\n",
              "\n",
              "  .colab-df-quickchart {\n",
              "    background-color: var(--bg-color);\n",
              "    border: none;\n",
              "    border-radius: 50%;\n",
              "    cursor: pointer;\n",
              "    display: none;\n",
              "    fill: var(--fill-color);\n",
              "    height: 32px;\n",
              "    padding: 0;\n",
              "    width: 32px;\n",
              "  }\n",
              "\n",
              "  .colab-df-quickchart:hover {\n",
              "    background-color: var(--hover-bg-color);\n",
              "    box-shadow: 0 1px 2px rgba(60, 64, 67, 0.3), 0 1px 3px 1px rgba(60, 64, 67, 0.15);\n",
              "    fill: var(--button-hover-fill-color);\n",
              "  }\n",
              "\n",
              "  .colab-df-quickchart-complete:disabled,\n",
              "  .colab-df-quickchart-complete:disabled:hover {\n",
              "    background-color: var(--disabled-bg-color);\n",
              "    fill: var(--disabled-fill-color);\n",
              "    box-shadow: none;\n",
              "  }\n",
              "\n",
              "  .colab-df-spinner {\n",
              "    border: 2px solid var(--fill-color);\n",
              "    border-color: transparent;\n",
              "    border-bottom-color: var(--fill-color);\n",
              "    animation:\n",
              "      spin 1s steps(1) infinite;\n",
              "  }\n",
              "\n",
              "  @keyframes spin {\n",
              "    0% {\n",
              "      border-color: transparent;\n",
              "      border-bottom-color: var(--fill-color);\n",
              "      border-left-color: var(--fill-color);\n",
              "    }\n",
              "    20% {\n",
              "      border-color: transparent;\n",
              "      border-left-color: var(--fill-color);\n",
              "      border-top-color: var(--fill-color);\n",
              "    }\n",
              "    30% {\n",
              "      border-color: transparent;\n",
              "      border-left-color: var(--fill-color);\n",
              "      border-top-color: var(--fill-color);\n",
              "      border-right-color: var(--fill-color);\n",
              "    }\n",
              "    40% {\n",
              "      border-color: transparent;\n",
              "      border-right-color: var(--fill-color);\n",
              "      border-top-color: var(--fill-color);\n",
              "    }\n",
              "    60% {\n",
              "      border-color: transparent;\n",
              "      border-right-color: var(--fill-color);\n",
              "    }\n",
              "    80% {\n",
              "      border-color: transparent;\n",
              "      border-right-color: var(--fill-color);\n",
              "      border-bottom-color: var(--fill-color);\n",
              "    }\n",
              "    90% {\n",
              "      border-color: transparent;\n",
              "      border-bottom-color: var(--fill-color);\n",
              "    }\n",
              "  }\n",
              "</style>\n",
              "\n",
              "  <script>\n",
              "    async function quickchart(key) {\n",
              "      const quickchartButtonEl =\n",
              "        document.querySelector('#' + key + ' button');\n",
              "      quickchartButtonEl.disabled = true;  // To prevent multiple clicks.\n",
              "      quickchartButtonEl.classList.add('colab-df-spinner');\n",
              "      try {\n",
              "        const charts = await google.colab.kernel.invokeFunction(\n",
              "            'suggestCharts', [key], {});\n",
              "      } catch (error) {\n",
              "        console.error('Error during call to suggestCharts:', error);\n",
              "      }\n",
              "      quickchartButtonEl.classList.remove('colab-df-spinner');\n",
              "      quickchartButtonEl.classList.add('colab-df-quickchart-complete');\n",
              "    }\n",
              "    (() => {\n",
              "      let quickchartButtonEl =\n",
              "        document.querySelector('#df-eee76a7a-cfc1-4f15-b335-4b280ace416e button');\n",
              "      quickchartButtonEl.style.display =\n",
              "        google.colab.kernel.accessAllowed ? 'block' : 'none';\n",
              "    })();\n",
              "  </script>\n",
              "</div>\n",
              "\n",
              "    </div>\n",
              "  </div>\n"
            ],
            "application/vnd.google.colaboratory.intrinsic+json": {
              "type": "dataframe",
              "variable_name": "df",
              "summary": "{\n  \"name\": \"df\",\n  \"rows\": 1090,\n  \"fields\": [\n    {\n      \"column\": \"Unnamed: 0\",\n      \"properties\": {\n        \"dtype\": \"number\",\n        \"std\": 314,\n        \"min\": 0,\n        \"max\": 1089,\n        \"num_unique_values\": 1090,\n        \"samples\": [\n          834,\n          940,\n          1084\n        ],\n        \"semantic_type\": \"\",\n        \"description\": \"\"\n      }\n    },\n    {\n      \"column\": \"recipe_name\",\n      \"properties\": {\n        \"dtype\": \"string\",\n        \"num_unique_values\": 961,\n        \"samples\": [\n          \"Pear and Blue Cheese Salad\",\n          \"Rachel's Sugar Plum Spice Jam\",\n          \"Poached Pears Belle Helene\"\n        ],\n        \"semantic_type\": \"\",\n        \"description\": \"\"\n      }\n    },\n    {\n      \"column\": \"prep_time\",\n      \"properties\": {\n        \"dtype\": \"category\",\n        \"num_unique_values\": 21,\n        \"samples\": [\n          \"30 mins\",\n          \"55 mins\",\n          \"8 hrs\"\n        ],\n        \"semantic_type\": \"\",\n        \"description\": \"\"\n      }\n    },\n    {\n      \"column\": \"cook_time\",\n      \"properties\": {\n        \"dtype\": \"category\",\n        \"num_unique_values\": 58,\n        \"samples\": [\n          \"1 hrs\",\n          \"10 mins\",\n          \"1 hrs 40 mins\"\n        ],\n        \"semantic_type\": \"\",\n        \"description\": \"\"\n      }\n    },\n    {\n      \"column\": \"total_time\",\n      \"properties\": {\n        \"dtype\": \"category\",\n        \"num_unique_values\": 120,\n        \"samples\": [\n          \"15 hrs 35 mins\",\n          \"4 hrs 50 mins\",\n          \"1 hrs\"\n        ],\n        \"semantic_type\": \"\",\n        \"description\": \"\"\n      }\n    },\n    {\n      \"column\": \"servings\",\n      \"properties\": {\n        \"dtype\": \"number\",\n        \"std\": 19,\n        \"min\": 1,\n        \"max\": 240,\n        \"num_unique_values\": 43,\n        \"samples\": [\n          17,\n          15,\n          3\n        ],\n        \"semantic_type\": \"\",\n        \"description\": \"\"\n      }\n    },\n    {\n      \"column\": \"yield\",\n      \"properties\": {\n        \"dtype\": \"category\",\n        \"num_unique_values\": 312,\n        \"samples\": [\n          \"1 9x9-inch crisp\",\n          \"7 quarts\",\n          \"1 8-inch layer cake\"\n        ],\n        \"semantic_type\": \"\",\n        \"description\": \"\"\n      }\n    },\n    {\n      \"column\": \"ingredients\",\n      \"properties\": {\n        \"dtype\": \"string\",\n        \"num_unique_values\": 961,\n        \"samples\": [\n          \"1 (10 ounce) bag mixed field greens, \\u00bd cup sliced red onion (Optional), 1  Bosc pear, cored and sliced, \\u00bd cup chopped candied pecans, \\u00bd cup crumbled blue cheese, \\u00bc cup maple syrup, \\u2153 cup apple cider vinegar, \\u00bd cup mayonnaise, 2 tablespoons packed brown sugar, \\u00be teaspoon salt, \\u00bc teaspoon freshly ground black pepper, \\u00bc cup walnut oil\",\n          \"10  red plums, pitted and chopped, 2 cups chopped fresh pineapple, \\u00bd cup apple juice, \\u00bd (12 fluid ounce) can frozen orange juice concentrate, 1  lemon, juiced, 1 \\u00bd teaspoons ground cloves, 1 teaspoon ground allspice, 1 (1.75 ounce) package powdered fruit pectin, 1 tablespoon butter, 8 cups white sugar, 4 drops red food coloring\",\n          \"6 cups water, 1  lemon, zested and juiced, 4  Bosc pears - cored, peeled, stems left on, 1  vanilla bean, 3 cups sugar, 1 cup prepared hot fudge topping, or as needed, 1 cup vanilla ice cream, or as needed\"\n        ],\n        \"semantic_type\": \"\",\n        \"description\": \"\"\n      }\n    },\n    {\n      \"column\": \"directions\",\n      \"properties\": {\n        \"dtype\": \"string\",\n        \"num_unique_values\": 961,\n        \"samples\": [\n          \"Place the salad greens in a large bowl. Add the red onion, pear, pecans, and blue cheese, and toss to mix evenly.\\nTo make the dressing, place the maple syrup, vinegar, mayonnaise, brown sugar, salt, and pepper in a blender, and blend thoroughly. With the motor running, slowly pour in the walnut oil. Blend until mixture becomes creamy, about 1 minute. Pour over salad mixture, and toss to coat greens evenly. Serve immediately.\\n\\n\\n\\n\\n\\n\\n\\n\\n\\n\",\n          \"Place the plums, pineapple, apple juice, orange juice concentrate, and lemon juice into a large pot over medium-low heat, cover, and cook until the plums are soft, 15 to 20 minutes. Mash the plums and pineapple with a potato masher until thoroughly broken up, but leave small chunks of fruit in the mixture. With the fruit mixture at a slow simmer, stir in the cloves, allspice, pectin, and butter (to reduce foaming). Raise heat to high and bring the mixture to a full, rolling boil for 1 minute, stirring constantly. Mix in the sugar, stirring constantly, and cook for 1 more minute at a full, rolling boil. Remove from heat, stir in red food coloring until even in color, and skim off any foam.\\nSterilize 12-ounce canning jars and lids in boiling water for at least 5 minutes. Pack the plum jam into the hot, sterilized jars, filling the jars to within 1/4 inch of the top. Run a knife or a thin spatula around the insides of the jars after they have been filled to remove any air bubbles. Wipe the rims of the jars with a moist paper towel to remove any food residue. Top with lids, and screw on rings.\\nPlace a rack in the bottom of a large stockpot and fill halfway with water. Bring to a boil over high heat, then carefully lower the jars into the pot using a holder. Leave a 2 inch space between the jars. Pour in more boiling water if necessary until the water level is at least 1 inch above the tops of the jars. Bring the water to a full boil, cover the pot, and process for 10 minutes.\\nRemove the jars from the stockpot and place onto a cloth-covered or wood surface, several inches apart, until cool. Once cool, press the top of each lid with a finger, ensuring that the seal is tight (lid does not move up or down at all). Store in a cool, dark area.\",\n          \"Place water in a heavy pot. Stir in zest and juice of 1 lemon. Place pears in pot. Split the vanilla bean lengthwise and scrape out the seeds. Add the seeds and split pods to the poaching liquid. Pour in sugar.\\nBring pot to a simmer over medium-high heat; stir gently to dissolve sugar with minimal jostling of the pears. Reduce heat so pears continue cooking over a steady, gentle simmer. Pears need to stay submerged, so place a small plate over them in the pot to keep them under the liquid. Simmer until pears are just tender, 20 to 25 minutes. (Remove plate to test the pears for doneness.) Remove pot from heat and let pears cool to room temperature in the poaching liquid.\\nTransfer pears and vanilla beans to a storage container and cover with some of the poaching liquid. Cover and refrigerate until pears are thoroughly chilled, several hours or overnight. Reserve all of the poaching liquid (see footnote).\\nHeat hot fudge sauce in a saucepan over medium heat until warm. Dip base of pear into the chocolate and spoon chocolate along the sides except for the top inch or so of the pear.\\nPlace dipped pears in individual serving bowls with another generous spoonful of syrup and a small scoop of vanilla ice cream.\\n\\n\\n\\n\\n\\n\\n\\n\\n\\n\"\n        ],\n        \"semantic_type\": \"\",\n        \"description\": \"\"\n      }\n    },\n    {\n      \"column\": \"rating\",\n      \"properties\": {\n        \"dtype\": \"number\",\n        \"std\": 0.3498140874644388,\n        \"min\": 2.0,\n        \"max\": 5.0,\n        \"num_unique_values\": 20,\n        \"samples\": [\n          4.4,\n          3.8,\n          2.3\n        ],\n        \"semantic_type\": \"\",\n        \"description\": \"\"\n      }\n    },\n    {\n      \"column\": \"url\",\n      \"properties\": {\n        \"dtype\": \"string\",\n        \"num_unique_values\": 961,\n        \"samples\": [\n          \"https://www.allrecipes.com/recipe/147395/pear-and-blue-cheese-salad/\",\n          \"https://www.allrecipes.com/recipe/215135/rachels-sugar-plum-spice-jam/\",\n          \"https://www.allrecipes.com/recipe/245028/poached-pears-belle-helene/\"\n        ],\n        \"semantic_type\": \"\",\n        \"description\": \"\"\n      }\n    },\n    {\n      \"column\": \"cuisine_path\",\n      \"properties\": {\n        \"dtype\": \"category\",\n        \"num_unique_values\": 353,\n        \"samples\": [\n          \"/Drinks Recipes/Shakes and Floats Recipes/\",\n          \"/Breakfast and Brunch/Drinks/\",\n          \"/Desserts/Custards and Puddings/Pudding/\"\n        ],\n        \"semantic_type\": \"\",\n        \"description\": \"\"\n      }\n    },\n    {\n      \"column\": \"nutrition\",\n      \"properties\": {\n        \"dtype\": \"string\",\n        \"num_unique_values\": 961,\n        \"samples\": [\n          \"Total Fat 30g 39%, Saturated Fat 6g 29%, Cholesterol 15mg 5%, Sodium 631mg 27%, Total Carbohydrate 25g 9%, Dietary Fiber 3g 12%, Total Sugars 18g, Protein 8g, Vitamin C 10mg 48%, Calcium 106mg 8%, Iron 1mg 7%, Potassium 367mg 8%\",\n          \"Total Fat 0g 0%, Saturated Fat 0g 1%, Cholesterol 0mg 0%, Sodium 1mg 0%, Total Carbohydrate 15g 5%, Dietary Fiber 0g 0%, Total Sugars 15g, Protein 0g, Vitamin C 4mg 20%, Calcium 2mg 0%, Potassium 24mg 1%\",\n          \"Total Fat 14g 17%, Saturated Fat 7g 33%, Cholesterol 15mg 5%, Sodium 252mg 11%, Total Carbohydrate 241g 88%, Dietary Fiber 9g 31%, Total Sugars 213g, Protein 4g, Vitamin C 29mg 144%, Calcium 171mg 13%, Iron 1mg 7%, Potassium 491mg 10%\"\n        ],\n        \"semantic_type\": \"\",\n        \"description\": \"\"\n      }\n    },\n    {\n      \"column\": \"timing\",\n      \"properties\": {\n        \"dtype\": \"string\",\n        \"num_unique_values\": 848,\n        \"samples\": [\n          \"Prep Time: 15 mins, Cook Time: 1 hrs 5 mins, Total Time: 1 hrs 20 mins, Servings: 50, Yield: 3 1/4 cups\",\n          \"Prep Time: 30 mins, Cook Time: 30 mins, Additional Time: 1 hrs, Total Time: 2 hrs, Servings: 16, Yield: 16 servings\",\n          \"Prep Time: 40 mins, Cook Time: 30 mins, Total Time: 1 hrs 10 mins, Servings: 8, Yield: 1 8-inch layer cake\"\n        ],\n        \"semantic_type\": \"\",\n        \"description\": \"\"\n      }\n    },\n    {\n      \"column\": \"img_src\",\n      \"properties\": {\n        \"dtype\": \"string\",\n        \"num_unique_values\": 961,\n        \"samples\": [\n          \"https://www.allrecipes.com/thmb/Ur_JE5HgUnhf_506dEbIiXIuah0=/1500x0/filters:no_upscale():max_bytes(150000):strip_icc()/3927764-2555e16368a4430587a4bcc42de106b2.jpg\",\n          \"https://www.allrecipes.com/thmb/mska6CgzuGn26irN4dSRvLgXRzo=/1500x0/filters:no_upscale():max_bytes(150000):strip_icc()/2422500-fc5abeb02d6a4977975c6fb82cf7751d.jpg\",\n          \"https://www.allrecipes.com/thmb/mf9hwt9VQzKrLAmb5SwnRTzCLJE=/1500x0/filters:no_upscale():max_bytes(150000):strip_icc()/3939792-06e1a8218c5741b88c9b81fb8415268d.jpg\"\n        ],\n        \"semantic_type\": \"\",\n        \"description\": \"\"\n      }\n    }\n  ]\n}"
            }
          },
          "metadata": {},
          "execution_count": 3
        }
      ]
    },
    {
      "cell_type": "markdown",
      "source": [
        "Discover the data types of columns within the dataframe, this is helpful to guide through the progress of this project."
      ],
      "metadata": {
        "id": "SYxvWUhGUpD7"
      }
    },
    {
      "cell_type": "code",
      "source": [
        "df.info()"
      ],
      "metadata": {
        "colab": {
          "base_uri": "https://localhost:8080/"
        },
        "id": "4EoF6UL210mM",
        "outputId": "6b30347f-09e1-473e-e722-22f2d3ff30c8"
      },
      "execution_count": null,
      "outputs": [
        {
          "output_type": "stream",
          "name": "stdout",
          "text": [
            "<class 'pandas.core.frame.DataFrame'>\n",
            "RangeIndex: 1090 entries, 0 to 1089\n",
            "Data columns (total 15 columns):\n",
            " #   Column        Non-Null Count  Dtype  \n",
            "---  ------        --------------  -----  \n",
            " 0   Unnamed: 0    1090 non-null   int64  \n",
            " 1   recipe_name   1090 non-null   object \n",
            " 2   prep_time     1039 non-null   object \n",
            " 3   cook_time     782 non-null    object \n",
            " 4   total_time    1045 non-null   object \n",
            " 5   servings      1090 non-null   int64  \n",
            " 6   yield         879 non-null    object \n",
            " 7   ingredients   1090 non-null   object \n",
            " 8   directions    1090 non-null   object \n",
            " 9   rating        1090 non-null   float64\n",
            " 10  url           1090 non-null   object \n",
            " 11  cuisine_path  1090 non-null   object \n",
            " 12  nutrition     1090 non-null   object \n",
            " 13  timing        1090 non-null   object \n",
            " 14  img_src       1090 non-null   object \n",
            "dtypes: float64(1), int64(2), object(12)\n",
            "memory usage: 127.9+ KB\n"
          ]
        }
      ]
    },
    {
      "cell_type": "markdown",
      "source": [
        "Counting the total size of the dataset (number of records or examples)"
      ],
      "metadata": {
        "id": "zcOQvdKnVIto"
      }
    },
    {
      "cell_type": "code",
      "source": [
        "# Count the number of examples (rows) in the dataset\n",
        "num_examples = len(df)\n",
        "print(\"Number of examples in the dataset:\", num_examples)\n"
      ],
      "metadata": {
        "colab": {
          "base_uri": "https://localhost:8080/"
        },
        "id": "yFoMYi2uyO4q",
        "outputId": "0545a701-fbc1-401a-de0a-e091ff8051de"
      },
      "execution_count": null,
      "outputs": [
        {
          "output_type": "stream",
          "name": "stdout",
          "text": [
            "Number of examples in the dataset: 1090\n"
          ]
        }
      ]
    },
    {
      "cell_type": "code",
      "source": [
        "# Specifying columns that we need\n",
        "columns_to_describe = ['recipe_name', 'ingredients', 'directions']\n",
        "df[columns_to_describe].describe(include=[object])\n"
      ],
      "metadata": {
        "colab": {
          "base_uri": "https://localhost:8080/",
          "height": 174
        },
        "id": "H5L-bcKJkfgY",
        "outputId": "b609ebbf-7721-4220-97ae-98a62a66fbe0"
      },
      "execution_count": null,
      "outputs": [
        {
          "output_type": "execute_result",
          "data": {
            "text/plain": [
              "                  recipe_name  \\\n",
              "count                    1090   \n",
              "unique                    961   \n",
              "top     Apple-Cranberry Crisp   \n",
              "freq                        5   \n",
              "\n",
              "                                              ingredients  \\\n",
              "count                                                1090   \n",
              "unique                                                961   \n",
              "top     2 pounds Granny Smith apples - peeled, cored a...   \n",
              "freq                                                    5   \n",
              "\n",
              "                                               directions  \n",
              "count                                                1090  \n",
              "unique                                                961  \n",
              "top     Preheat the oven to 375 degrees F (190 degrees...  \n",
              "freq                                                    5  "
            ],
            "text/html": [
              "\n",
              "  <div id=\"df-46a3c747-e0bd-4d1c-aabd-a4933935c31a\" class=\"colab-df-container\">\n",
              "    <div>\n",
              "<style scoped>\n",
              "    .dataframe tbody tr th:only-of-type {\n",
              "        vertical-align: middle;\n",
              "    }\n",
              "\n",
              "    .dataframe tbody tr th {\n",
              "        vertical-align: top;\n",
              "    }\n",
              "\n",
              "    .dataframe thead th {\n",
              "        text-align: right;\n",
              "    }\n",
              "</style>\n",
              "<table border=\"1\" class=\"dataframe\">\n",
              "  <thead>\n",
              "    <tr style=\"text-align: right;\">\n",
              "      <th></th>\n",
              "      <th>recipe_name</th>\n",
              "      <th>ingredients</th>\n",
              "      <th>directions</th>\n",
              "    </tr>\n",
              "  </thead>\n",
              "  <tbody>\n",
              "    <tr>\n",
              "      <th>count</th>\n",
              "      <td>1090</td>\n",
              "      <td>1090</td>\n",
              "      <td>1090</td>\n",
              "    </tr>\n",
              "    <tr>\n",
              "      <th>unique</th>\n",
              "      <td>961</td>\n",
              "      <td>961</td>\n",
              "      <td>961</td>\n",
              "    </tr>\n",
              "    <tr>\n",
              "      <th>top</th>\n",
              "      <td>Apple-Cranberry Crisp</td>\n",
              "      <td>2 pounds Granny Smith apples - peeled, cored a...</td>\n",
              "      <td>Preheat the oven to 375 degrees F (190 degrees...</td>\n",
              "    </tr>\n",
              "    <tr>\n",
              "      <th>freq</th>\n",
              "      <td>5</td>\n",
              "      <td>5</td>\n",
              "      <td>5</td>\n",
              "    </tr>\n",
              "  </tbody>\n",
              "</table>\n",
              "</div>\n",
              "    <div class=\"colab-df-buttons\">\n",
              "\n",
              "  <div class=\"colab-df-container\">\n",
              "    <button class=\"colab-df-convert\" onclick=\"convertToInteractive('df-46a3c747-e0bd-4d1c-aabd-a4933935c31a')\"\n",
              "            title=\"Convert this dataframe to an interactive table.\"\n",
              "            style=\"display:none;\">\n",
              "\n",
              "  <svg xmlns=\"http://www.w3.org/2000/svg\" height=\"24px\" viewBox=\"0 -960 960 960\">\n",
              "    <path d=\"M120-120v-720h720v720H120Zm60-500h600v-160H180v160Zm220 220h160v-160H400v160Zm0 220h160v-160H400v160ZM180-400h160v-160H180v160Zm440 0h160v-160H620v160ZM180-180h160v-160H180v160Zm440 0h160v-160H620v160Z\"/>\n",
              "  </svg>\n",
              "    </button>\n",
              "\n",
              "  <style>\n",
              "    .colab-df-container {\n",
              "      display:flex;\n",
              "      gap: 12px;\n",
              "    }\n",
              "\n",
              "    .colab-df-convert {\n",
              "      background-color: #E8F0FE;\n",
              "      border: none;\n",
              "      border-radius: 50%;\n",
              "      cursor: pointer;\n",
              "      display: none;\n",
              "      fill: #1967D2;\n",
              "      height: 32px;\n",
              "      padding: 0 0 0 0;\n",
              "      width: 32px;\n",
              "    }\n",
              "\n",
              "    .colab-df-convert:hover {\n",
              "      background-color: #E2EBFA;\n",
              "      box-shadow: 0px 1px 2px rgba(60, 64, 67, 0.3), 0px 1px 3px 1px rgba(60, 64, 67, 0.15);\n",
              "      fill: #174EA6;\n",
              "    }\n",
              "\n",
              "    .colab-df-buttons div {\n",
              "      margin-bottom: 4px;\n",
              "    }\n",
              "\n",
              "    [theme=dark] .colab-df-convert {\n",
              "      background-color: #3B4455;\n",
              "      fill: #D2E3FC;\n",
              "    }\n",
              "\n",
              "    [theme=dark] .colab-df-convert:hover {\n",
              "      background-color: #434B5C;\n",
              "      box-shadow: 0px 1px 3px 1px rgba(0, 0, 0, 0.15);\n",
              "      filter: drop-shadow(0px 1px 2px rgba(0, 0, 0, 0.3));\n",
              "      fill: #FFFFFF;\n",
              "    }\n",
              "  </style>\n",
              "\n",
              "    <script>\n",
              "      const buttonEl =\n",
              "        document.querySelector('#df-46a3c747-e0bd-4d1c-aabd-a4933935c31a button.colab-df-convert');\n",
              "      buttonEl.style.display =\n",
              "        google.colab.kernel.accessAllowed ? 'block' : 'none';\n",
              "\n",
              "      async function convertToInteractive(key) {\n",
              "        const element = document.querySelector('#df-46a3c747-e0bd-4d1c-aabd-a4933935c31a');\n",
              "        const dataTable =\n",
              "          await google.colab.kernel.invokeFunction('convertToInteractive',\n",
              "                                                    [key], {});\n",
              "        if (!dataTable) return;\n",
              "\n",
              "        const docLinkHtml = 'Like what you see? Visit the ' +\n",
              "          '<a target=\"_blank\" href=https://colab.research.google.com/notebooks/data_table.ipynb>data table notebook</a>'\n",
              "          + ' to learn more about interactive tables.';\n",
              "        element.innerHTML = '';\n",
              "        dataTable['output_type'] = 'display_data';\n",
              "        await google.colab.output.renderOutput(dataTable, element);\n",
              "        const docLink = document.createElement('div');\n",
              "        docLink.innerHTML = docLinkHtml;\n",
              "        element.appendChild(docLink);\n",
              "      }\n",
              "    </script>\n",
              "  </div>\n",
              "\n",
              "\n",
              "<div id=\"df-c974e9b8-0201-42cd-b1b4-633d346a5c86\">\n",
              "  <button class=\"colab-df-quickchart\" onclick=\"quickchart('df-c974e9b8-0201-42cd-b1b4-633d346a5c86')\"\n",
              "            title=\"Suggest charts\"\n",
              "            style=\"display:none;\">\n",
              "\n",
              "<svg xmlns=\"http://www.w3.org/2000/svg\" height=\"24px\"viewBox=\"0 0 24 24\"\n",
              "     width=\"24px\">\n",
              "    <g>\n",
              "        <path d=\"M19 3H5c-1.1 0-2 .9-2 2v14c0 1.1.9 2 2 2h14c1.1 0 2-.9 2-2V5c0-1.1-.9-2-2-2zM9 17H7v-7h2v7zm4 0h-2V7h2v10zm4 0h-2v-4h2v4z\"/>\n",
              "    </g>\n",
              "</svg>\n",
              "  </button>\n",
              "\n",
              "<style>\n",
              "  .colab-df-quickchart {\n",
              "      --bg-color: #E8F0FE;\n",
              "      --fill-color: #1967D2;\n",
              "      --hover-bg-color: #E2EBFA;\n",
              "      --hover-fill-color: #174EA6;\n",
              "      --disabled-fill-color: #AAA;\n",
              "      --disabled-bg-color: #DDD;\n",
              "  }\n",
              "\n",
              "  [theme=dark] .colab-df-quickchart {\n",
              "      --bg-color: #3B4455;\n",
              "      --fill-color: #D2E3FC;\n",
              "      --hover-bg-color: #434B5C;\n",
              "      --hover-fill-color: #FFFFFF;\n",
              "      --disabled-bg-color: #3B4455;\n",
              "      --disabled-fill-color: #666;\n",
              "  }\n",
              "\n",
              "  .colab-df-quickchart {\n",
              "    background-color: var(--bg-color);\n",
              "    border: none;\n",
              "    border-radius: 50%;\n",
              "    cursor: pointer;\n",
              "    display: none;\n",
              "    fill: var(--fill-color);\n",
              "    height: 32px;\n",
              "    padding: 0;\n",
              "    width: 32px;\n",
              "  }\n",
              "\n",
              "  .colab-df-quickchart:hover {\n",
              "    background-color: var(--hover-bg-color);\n",
              "    box-shadow: 0 1px 2px rgba(60, 64, 67, 0.3), 0 1px 3px 1px rgba(60, 64, 67, 0.15);\n",
              "    fill: var(--button-hover-fill-color);\n",
              "  }\n",
              "\n",
              "  .colab-df-quickchart-complete:disabled,\n",
              "  .colab-df-quickchart-complete:disabled:hover {\n",
              "    background-color: var(--disabled-bg-color);\n",
              "    fill: var(--disabled-fill-color);\n",
              "    box-shadow: none;\n",
              "  }\n",
              "\n",
              "  .colab-df-spinner {\n",
              "    border: 2px solid var(--fill-color);\n",
              "    border-color: transparent;\n",
              "    border-bottom-color: var(--fill-color);\n",
              "    animation:\n",
              "      spin 1s steps(1) infinite;\n",
              "  }\n",
              "\n",
              "  @keyframes spin {\n",
              "    0% {\n",
              "      border-color: transparent;\n",
              "      border-bottom-color: var(--fill-color);\n",
              "      border-left-color: var(--fill-color);\n",
              "    }\n",
              "    20% {\n",
              "      border-color: transparent;\n",
              "      border-left-color: var(--fill-color);\n",
              "      border-top-color: var(--fill-color);\n",
              "    }\n",
              "    30% {\n",
              "      border-color: transparent;\n",
              "      border-left-color: var(--fill-color);\n",
              "      border-top-color: var(--fill-color);\n",
              "      border-right-color: var(--fill-color);\n",
              "    }\n",
              "    40% {\n",
              "      border-color: transparent;\n",
              "      border-right-color: var(--fill-color);\n",
              "      border-top-color: var(--fill-color);\n",
              "    }\n",
              "    60% {\n",
              "      border-color: transparent;\n",
              "      border-right-color: var(--fill-color);\n",
              "    }\n",
              "    80% {\n",
              "      border-color: transparent;\n",
              "      border-right-color: var(--fill-color);\n",
              "      border-bottom-color: var(--fill-color);\n",
              "    }\n",
              "    90% {\n",
              "      border-color: transparent;\n",
              "      border-bottom-color: var(--fill-color);\n",
              "    }\n",
              "  }\n",
              "</style>\n",
              "\n",
              "  <script>\n",
              "    async function quickchart(key) {\n",
              "      const quickchartButtonEl =\n",
              "        document.querySelector('#' + key + ' button');\n",
              "      quickchartButtonEl.disabled = true;  // To prevent multiple clicks.\n",
              "      quickchartButtonEl.classList.add('colab-df-spinner');\n",
              "      try {\n",
              "        const charts = await google.colab.kernel.invokeFunction(\n",
              "            'suggestCharts', [key], {});\n",
              "      } catch (error) {\n",
              "        console.error('Error during call to suggestCharts:', error);\n",
              "      }\n",
              "      quickchartButtonEl.classList.remove('colab-df-spinner');\n",
              "      quickchartButtonEl.classList.add('colab-df-quickchart-complete');\n",
              "    }\n",
              "    (() => {\n",
              "      let quickchartButtonEl =\n",
              "        document.querySelector('#df-c974e9b8-0201-42cd-b1b4-633d346a5c86 button');\n",
              "      quickchartButtonEl.style.display =\n",
              "        google.colab.kernel.accessAllowed ? 'block' : 'none';\n",
              "    })();\n",
              "  </script>\n",
              "</div>\n",
              "\n",
              "    </div>\n",
              "  </div>\n"
            ],
            "application/vnd.google.colaboratory.intrinsic+json": {
              "type": "dataframe",
              "summary": "{\n  \"name\": \"df[columns_to_describe]\",\n  \"rows\": 4,\n  \"fields\": [\n    {\n      \"column\": \"recipe_name\",\n      \"properties\": {\n        \"dtype\": \"string\",\n        \"num_unique_values\": 4,\n        \"samples\": [\n          961,\n          \"5\",\n          \"1090\"\n        ],\n        \"semantic_type\": \"\",\n        \"description\": \"\"\n      }\n    },\n    {\n      \"column\": \"ingredients\",\n      \"properties\": {\n        \"dtype\": \"string\",\n        \"num_unique_values\": 4,\n        \"samples\": [\n          961,\n          \"5\",\n          \"1090\"\n        ],\n        \"semantic_type\": \"\",\n        \"description\": \"\"\n      }\n    },\n    {\n      \"column\": \"directions\",\n      \"properties\": {\n        \"dtype\": \"string\",\n        \"num_unique_values\": 4,\n        \"samples\": [\n          961,\n          \"5\",\n          \"1090\"\n        ],\n        \"semantic_type\": \"\",\n        \"description\": \"\"\n      }\n    }\n  ]\n}"
            }
          },
          "metadata": {},
          "execution_count": 6
        }
      ]
    },
    {
      "cell_type": "markdown",
      "source": [
        "Visualizing if any of the columns to be used contain null values. As well as checking the most frequent recipe and the number of unique recipes within the dataset."
      ],
      "metadata": {
        "id": "iQCOUJXjlqE1"
      }
    },
    {
      "cell_type": "markdown",
      "source": [
        "Drop any records that do not contain any data within recipe name, ingredients and directions column.\n",
        "This is essential as those will be the three primary columns within the dataset to be manipulated and what recipe generation will be based on."
      ],
      "metadata": {
        "id": "HKpD5xRGVllk"
      }
    },
    {
      "cell_type": "code",
      "source": [
        "# Function for filtering out records with no recipe name, ingredients nor instructions\n",
        "df=df.dropna(subset=['recipe_name','ingredients', 'directions'])\n",
        "# Print the size of the dataset before and after validation\n",
        "print('Dataset size BEFORE validation:', len(df))\n",
        "print('Dataset size AFTER deleting empty cells:', len(df))\n"
      ],
      "metadata": {
        "colab": {
          "base_uri": "https://localhost:8080/"
        },
        "id": "aCa8VXBU0Akd",
        "outputId": "6d26d646-babe-4cd2-ac11-98c1795a8155"
      },
      "execution_count": null,
      "outputs": [
        {
          "output_type": "stream",
          "name": "stdout",
          "text": [
            "Dataset size BEFORE validation: 1090\n",
            "Dataset size AFTER deleting empty cells: 1090\n"
          ]
        }
      ]
    },
    {
      "cell_type": "markdown",
      "source": [
        "Luckily, the dataset does not contain any empty values within these three columns retaining its original length."
      ],
      "metadata": {
        "id": "So5uE9K8WNqF"
      }
    },
    {
      "cell_type": "markdown",
      "source": [
        "Identifying the most common recipe names within the dataset."
      ],
      "metadata": {
        "id": "d-wc-n7omN08"
      }
    },
    {
      "cell_type": "code",
      "source": [
        "df['recipe_name'].value_counts().head(10)"
      ],
      "metadata": {
        "colab": {
          "base_uri": "https://localhost:8080/",
          "height": 429
        },
        "id": "e4XaEKwYmFmL",
        "outputId": "1db55755-ee09-44eb-ca0b-49426ffa04f5"
      },
      "execution_count": null,
      "outputs": [
        {
          "output_type": "execute_result",
          "data": {
            "text/plain": [
              "recipe_name\n",
              "Apple-Cranberry Crisp                            5\n",
              "Awesome Sausage, Apple and Cranberry Stuffing    5\n",
              "Old-Fashioned Apple Dumplings                    4\n",
              "Waldorf Salad                                    4\n",
              "Delicious Cinnamon Baked Apples                  4\n",
              "Apple Strudel Muffins                            4\n",
              "Easy Apple Crisp with Pie Filling                4\n",
              "Mom's Apple Fritters                             4\n",
              "Debbie's Amazing Apple Bread                     4\n",
              "Easy Apple Cinnamon Muffins                      4\n",
              "Name: count, dtype: int64"
            ],
            "text/html": [
              "<div>\n",
              "<style scoped>\n",
              "    .dataframe tbody tr th:only-of-type {\n",
              "        vertical-align: middle;\n",
              "    }\n",
              "\n",
              "    .dataframe tbody tr th {\n",
              "        vertical-align: top;\n",
              "    }\n",
              "\n",
              "    .dataframe thead th {\n",
              "        text-align: right;\n",
              "    }\n",
              "</style>\n",
              "<table border=\"1\" class=\"dataframe\">\n",
              "  <thead>\n",
              "    <tr style=\"text-align: right;\">\n",
              "      <th></th>\n",
              "      <th>count</th>\n",
              "    </tr>\n",
              "    <tr>\n",
              "      <th>recipe_name</th>\n",
              "      <th></th>\n",
              "    </tr>\n",
              "  </thead>\n",
              "  <tbody>\n",
              "    <tr>\n",
              "      <th>Apple-Cranberry Crisp</th>\n",
              "      <td>5</td>\n",
              "    </tr>\n",
              "    <tr>\n",
              "      <th>Awesome Sausage, Apple and Cranberry Stuffing</th>\n",
              "      <td>5</td>\n",
              "    </tr>\n",
              "    <tr>\n",
              "      <th>Old-Fashioned Apple Dumplings</th>\n",
              "      <td>4</td>\n",
              "    </tr>\n",
              "    <tr>\n",
              "      <th>Waldorf Salad</th>\n",
              "      <td>4</td>\n",
              "    </tr>\n",
              "    <tr>\n",
              "      <th>Delicious Cinnamon Baked Apples</th>\n",
              "      <td>4</td>\n",
              "    </tr>\n",
              "    <tr>\n",
              "      <th>Apple Strudel Muffins</th>\n",
              "      <td>4</td>\n",
              "    </tr>\n",
              "    <tr>\n",
              "      <th>Easy Apple Crisp with Pie Filling</th>\n",
              "      <td>4</td>\n",
              "    </tr>\n",
              "    <tr>\n",
              "      <th>Mom's Apple Fritters</th>\n",
              "      <td>4</td>\n",
              "    </tr>\n",
              "    <tr>\n",
              "      <th>Debbie's Amazing Apple Bread</th>\n",
              "      <td>4</td>\n",
              "    </tr>\n",
              "    <tr>\n",
              "      <th>Easy Apple Cinnamon Muffins</th>\n",
              "      <td>4</td>\n",
              "    </tr>\n",
              "  </tbody>\n",
              "</table>\n",
              "</div><br><label><b>dtype:</b> int64</label>"
            ]
          },
          "metadata": {},
          "execution_count": 8
        }
      ]
    },
    {
      "cell_type": "markdown",
      "source": [
        "As it is shown, Apple-Cranberry Crisp and Awesome Sausage, Apple and Cranberry Stuffing\tare the two most common recipes."
      ],
      "metadata": {
        "id": "qaS6c-RYmUT0"
      }
    },
    {
      "cell_type": "markdown",
      "source": [
        "\n",
        "\n",
        "---\n",
        "\n"
      ],
      "metadata": {
        "id": "XTb2BUDvpBoU"
      }
    },
    {
      "cell_type": "markdown",
      "source": [
        "Furthermore, we visualize the three most common ingredients within our dataset"
      ],
      "metadata": {
        "id": "R5md3LS_pC1m"
      }
    },
    {
      "cell_type": "code",
      "source": [
        "from itertools import chain\n",
        "all_ingredients = list(chain(*df['ingredients'].str.split(',')))"
      ],
      "metadata": {
        "id": "kzTe_cyvoo1k"
      },
      "execution_count": null,
      "outputs": []
    },
    {
      "cell_type": "code",
      "source": [
        "from collections import Counter\n",
        "\n",
        "# Count occurrences of each ingredient\n",
        "ingredient_counts = Counter(all_ingredients)\n",
        "\n",
        "# Get the most common ingredients\n",
        "most_common = ingredient_counts.most_common(3)  # Top 3 most common ingredients\n",
        "\n",
        "print(most_common)"
      ],
      "metadata": {
        "colab": {
          "base_uri": "https://localhost:8080/"
        },
        "id": "dZTbyxusoIn1",
        "outputId": "1e788df5-4f52-482b-e408-98525914d3f4"
      },
      "execution_count": null,
      "outputs": [
        {
          "output_type": "stream",
          "name": "stdout",
          "text": [
            "[(' ½ teaspoon salt', 115), (' 1 cup white sugar', 114), (' 1 teaspoon vanilla extract', 111)]\n"
          ]
        }
      ]
    },
    {
      "cell_type": "code",
      "source": [
        "import matplotlib.pyplot as plt\n",
        "\n",
        "# Extract ingredients and counts for the top 3\n",
        "ingredients, counts = zip(*ingredient_counts.most_common(3))\n",
        "\n",
        "# Plot a bar chart\n",
        "plt.bar(ingredients, counts, color='skyblue')\n",
        "plt.xticks(rotation=45, ha='right')\n",
        "plt.xlabel('Ingredients')\n",
        "plt.ylabel('Frequency')\n",
        "plt.title('Top 3 Most Common Ingredients')\n",
        "plt.show()"
      ],
      "metadata": {
        "colab": {
          "base_uri": "https://localhost:8080/",
          "height": 599
        },
        "id": "0th6sYDPoOqU",
        "outputId": "5ea2f6b1-ea0f-4a16-cd4b-85863021d289"
      },
      "execution_count": null,
      "outputs": [
        {
          "output_type": "display_data",
          "data": {
            "text/plain": [
              "<Figure size 640x480 with 1 Axes>"
            ],
            "image/png": "[encoded data removed]"
          },
          "metadata": {}
        }
      ]
    },
    {
      "cell_type": "markdown",
      "source": [
        "Next, we apply some mild pre-processing as the dataset itself is very clean and well structured. The processing includes replacing measurement symbols such as ½ , ¾, ¼ to be 1/2, 1/4, 3/4 as they might confused the model during generation task.\n",
        "Furthetly we converted the dataframe into string types for further processing before moving to the model."
      ],
      "metadata": {
        "id": "_me_9Zj8WUos"
      }
    },
    {
      "cell_type": "code",
      "source": [
        "# Dictionary of replacements\n",
        "replacements = {\n",
        "    \"½\": \"1/2\",\n",
        "    \"¾\": \"3/4\",\n",
        "    \"¼\": \"1/4\"\n",
        "}\n",
        "\n",
        "# Function to replace special characters\n",
        "def replace_special_chars(text):\n",
        "    for old, new in replacements.items():\n",
        "        text = text.replace(old, new)\n",
        "    return text\n",
        "df['ingredients']= df['ingredients'].apply(replace_special_chars)\n",
        "df['recipe_name']= df['recipe_name'].apply(replace_special_chars)\n",
        "df['directions']= df['directions'].apply(replace_special_chars)\n",
        "\n",
        "# Convert columns to string type\n",
        "df['recipe_name'] = df['recipe_name'].astype(str)\n",
        "df['ingredients'] = df['ingredients'].astype(str)\n",
        "df['directions'] = df['directions'].astype(str)\n",
        "\n"
      ],
      "metadata": {
        "id": "p1FbImP7gLNU"
      },
      "execution_count": null,
      "outputs": []
    },
    {
      "cell_type": "markdown",
      "source": [
        "Here, we defined a specific format for the recipe to be generated. This format will also apply to the previous strings we just converted."
      ],
      "metadata": {
        "id": "jeM-BogJX2Kk"
      }
    },
    {
      "cell_type": "code",
      "source": [
        "# Define a function to format the recipe\n",
        "def format_recipe(row, index):\n",
        "    formatted = (\n",
        "        f\"Recipe #{index + 1}\\n\"\n",
        "        f\"---------\\n\"\n",
        "        f\"📗 {row['recipe_name']}\\n\"\n",
        "        f\"🥕\\n\"\n",
        "        f\"{row['ingredients']}\\n\"\n",
        "        f\"📝\\n\"\n",
        "        f\"{row['directions']}\\n\"\n",
        "    )\n",
        "    return formatted\n",
        "\n",
        "# Iterate through the DataFrame and format each recipe\n",
        "formatted_recipes = []\n",
        "for index, row in df.iterrows():\n",
        "    formatted_recipes.append(format_recipe(row, index))\n",
        "\n"
      ],
      "metadata": {
        "id": "XeLckvgqiUeM"
      },
      "execution_count": null,
      "outputs": []
    },
    {
      "cell_type": "markdown",
      "source": [
        "Visualizing the first 10 recipes to ensure the format is consistent and outputs as desired."
      ],
      "metadata": {
        "id": "rzWJJRfCYILH"
      }
    },
    {
      "cell_type": "code",
      "source": [
        "# Print the first 10 recipes from the formatted_recipes list\n",
        "for recipe_index, recipe_string in enumerate(formatted_recipes[:10]):\n",
        "    print(recipe_string)  # Prints the stringified recipe content\n",
        "    print('\\n')  # Adds an extra blank line between recipes\n",
        "\n"
      ],
      "metadata": {
        "colab": {
          "base_uri": "https://localhost:8080/"
        },
        "id": "IqzgqJmqjDMb",
        "outputId": "f7521f4e-4725-4102-afdd-9f5a3bb8ed1e"
      },
      "execution_count": null,
      "outputs": [
        {
          "output_type": "stream",
          "name": "stdout",
          "text": [
            "Recipe #1\n",
            "---------\n",
            "📗 Apple-Cranberry Crostada\n",
            "🥕\n",
            "3 tablespoons butter, 2 pounds Granny Smith apples (or other firm, crisp apples), peeled, quartered, cored and sliced 1/4-inch thick, 1 pound Macintosh apples (or other soft-textured apples that fall apart when cooked), peeled, quartered, cored, and sliced 1/4-inch thick, 1/2 cup sugar, 1/2 cup dried cranberries, 1 sheet frozen puff pastry, thawed but still cold (follow package directions), 1  egg white, lightly beaten, 1 tablespoon sugar, 1 cup Optional: Ice cream or lightly sweetened whipped cream\n",
            "📝\n",
            "Heat butter in a large skillet over medium-high heat. Add apples, 1/2 cup sugar and cranberries; cover and cook until apples release their liquid, about 5 minutes. Remove lid and continue to cook, stirring frequently, until soft apples fall apart and juices thicken to a thin-syrup consistency, about 5 minutes longer. Pour onto a large-lipped cookie sheet or jellyroll pan and cool to room temperature. (Can be refrigerated in an airtight container up to 5 days.)\n",
            "Adjust oven rack to low position and heat oven to 400 degrees. Open puff pastry sheet on a lightly floured work surface. Roll into a rectangle, about 10 by 16 inches. Transfer to a large cookie sheet. (I suggest lining the sheet with parchment paper; this ensures the crostada doesn't stick and allows easy cleanup.)\n",
            "Spread cooked apples over pastry, leaving a 2-inch border. Fold up pastry borders over apples. Unfold corners and form ruffled creases to keep dough from overlapping. Brush pastry border with egg white and sprinkle with the remaining 1 Tb. sugar. Bake until pastry is golden brown, 25 to 30 minutes. Serve warm or at room temperature with optional ice cream or whipped cream.\n",
            "\n",
            "\n",
            "\n",
            "Recipe #2\n",
            "---------\n",
            "📗 Apple Pie by Grandma Ople\n",
            "🥕\n",
            "8 small Granny Smith apples, or as needed, 1/2 cup unsalted butter, 3 tablespoons all-purpose flour, 1/2 cup white sugar, 1/2 cup packed brown sugar, 1/4 cup water, 1 (9 inch) double-crust pie pastry, thawed\n",
            "📝\n",
            "Peel and core apples, then thinly slice. Set aside.\n",
            "Preheat the oven to 425 degrees F (220 degrees C).\n",
            "Melt butter in a saucepan over medium heat. Add flour and stir to form a paste; cook until fragrant, about 1 to 2 minutes. Add both sugars and water; bring to a boil. Reduce the heat to low and simmer for 3 to 5 minutes. Remove from the heat.\n",
            "Press one pastry into the bottom and up the sides of a 9-inch pie pan. Roll out remaining pastry so it will overhang the pie by about 1/2 inch. Cut pastry into eight 1-inch strips.\n",
            "Place sliced apples into the bottom crust, forming a slight mound. Lay four pastry strips vertically and evenly spaced over apples, using longer strips in the center and shorter strips at the edges.\n",
            "Make a lattice crust: Fold the first and third strips all the way back so they're almost falling off the pie. Lay one of the unused strips perpendicularly over the second and fourth strips, then unfold the first and third strips back into their original position.\n",
            "Fold the second and fourth vertical strips back. Lay one of the three unused strips perpendicularly over top. Unfold the second and fourth strips back into their original position.\n",
            "Repeat Steps 6 and 7 to weave in the last two strips of pastry. Fold and trim excess dough at the edges as necessary, and pinch to secure.\n",
            "Slowly and gently pour sugar-butter mixture over lattice crust, making sure it seeps over sliced apples. Brush some onto lattice, but make sure it doesn't run off the sides.\n",
            "Bake in the preheated oven for 15 minutes. Reduce the temperature to 350 degrees F (175 degrees C) and continue baking until apples are soft, 35 to 45 minutes.\n",
            "\n",
            "\n",
            "\n",
            "\n",
            "\n",
            "\n",
            "\n",
            "\n",
            "\n",
            "\n",
            "\n",
            "Natalie T\n",
            "\n",
            "\n",
            "\n",
            "\n",
            "Recipe #3\n",
            "---------\n",
            "📗 Sarah's Homemade Applesauce\n",
            "🥕\n",
            "4  apples - peeled, cored and chopped, 3/4 cup water, 1/4 cup white sugar, 1/2 teaspoon ground cinnamon\n",
            "📝\n",
            "Combine apples, water, sugar, and cinnamon in a saucepan; cover and cook over medium heat until apples are soft, about 15 to 20 minutes.\n",
            "Allow apple mixture to cool, then mash with a fork or potato masher until it is the consistency you like.\n",
            "\n",
            "\n",
            "\n",
            "\n",
            "\n",
            "\n",
            "\n",
            "\n",
            "\n",
            "\n",
            "\n",
            "Photo by cookin'mama.\n",
            "cookin mama\n",
            "\n",
            "\n",
            "\n",
            "\n",
            "Recipe #4\n",
            "---------\n",
            "📗 Apple Crisp\n",
            "🥕\n",
            "10 cups all-purpose apples, peeled, cored and sliced, 1 cup white sugar, 1 tablespoon all-purpose flour, 1 teaspoon ground cinnamon, 1/2 cup water, 1 cup quick-cooking oats, 1 cup all-purpose flour, 1 cup packed brown sugar, 1/4 teaspoon baking powder, 1/4 teaspoon baking soda, 1/2 cup butter, melted\n",
            "📝\n",
            "Preheat the oven to 350 degrees F (175 degrees C).\n",
            "Place sliced apples in a 9x13-inch baking dish. Mix white sugar, 1 tablespoon flour, and cinnamon together; sprinkle over apples. Pour water evenly over apples.\n",
            "Combine oats, 1 cup flour, brown sugar, baking powder, and baking soda in a large bowl. Add melted butter and mix with a fork until crumbly; sprinkle evenly over apple mixture.\n",
            "Bake in the preheated oven until top is golden brown and apples are bubbling around the edges, about 45 minutes.\n",
            "\n",
            "\n",
            "\n",
            "\n",
            "\n",
            "\n",
            "\n",
            "\n",
            "\n",
            "\n",
            "\n",
            "Dotdash Meredith Food Studios\n",
            "\n",
            "\n",
            "\n",
            "\n",
            "Recipe #5\n",
            "---------\n",
            "📗 Apple Pie Filling\n",
            "🥕\n",
            "18 cups thinly sliced apples, 3 tablespoons lemon juice, 10 cups water, 4 1/2 cups white sugar, 1 cup cornstarch, 2 teaspoons ground cinnamon, 1 teaspoon salt, 1/4 teaspoon ground nutmeg\n",
            "📝\n",
            "Toss apples with lemon juice in a large bowl and set aside.\n",
            "Pour water into a Dutch oven over medium heat. Combine sugar, cornstarch, cinnamon, salt, and nutmeg in a bowl; add to water, stir well, and bring to a boil. Boil for 2 minutes, stirring constantly.\n",
            "Add apples and return to a boil. Reduce heat, cover, and simmer until apples are tender, 6 to 8 minutes. Cool for 30 minutes.\n",
            "Ladle into 5 freezer containers, leaving 1/2 inch of headspace. Cool at room temperature no longer than 1 1/2 hours.\n",
            "Seal and freeze. Can be stored for up to 12 months.\n",
            "\n",
            "\n",
            "\n",
            "\n",
            "\n",
            "\n",
            "\n",
            "\n",
            "\n",
            "\n",
            "\n",
            "Dotdash Meredith Food Studios\n",
            "\n",
            "\n",
            "\n",
            "\n",
            "Recipe #6\n",
            "---------\n",
            "📗 Easy Apple Crisp with Oat Topping\n",
            "🥕\n",
            "6  apples - peeled, cored, and sliced, 2 tablespoons white sugar, 1 1/2 teaspoons ground cinnamon, divided, 1 cup brown sugar, 3/4 cup old-fashioned oats, 3/4 cup all-purpose flour, 1/2 cup cold butter\n",
            "📝\n",
            "Preheat the oven to 350 degrees F (175 degrees C).\n",
            "Toss apples with white sugar and 1/2 teaspoon cinnamon in a medium bowl to coat; pour into a 9-inch square baking dish.\n",
            "Mix brown sugar, oats, flour, and 1 teaspoon cinnamon in a separate bowl. Cut in cold butter with 2 knives or a pastry blender until the mixture resembles coarse crumbs; spread over apples and pat down gently until even.\n",
            "Bake in the preheated oven until golden brown and sides are bubbling, about 40 minutes.\n",
            "\n",
            "\n",
            "\n",
            "\n",
            "\n",
            "\n",
            "\n",
            "\n",
            "\n",
            "\n",
            "\n",
            "\n",
            "\n",
            "Recipe #7\n",
            "---------\n",
            "📗 Easy Apple Cider\n",
            "🥕\n",
            "1 (64 fluid ounce) bottle apple cider, 3  cinnamon sticks, 1 teaspoon whole allspice, 1 teaspoon whole cloves, ⅓ cup brown sugar\n",
            "📝\n",
            "Combine apple cider and cinnamon sticks in a slow cooker.\n",
            "Place allspice and cloves onto the center of an 8-inch square piece of cheesecloth. Gather edges of the cheesecloth together and tie to secure; place in the slow cooker. Stir in brown sugar. Cook on High until it comes to a boil. Reduce heat to Low and keep warm.\n",
            "\n",
            "\n",
            "\n",
            "Recipe #8\n",
            "---------\n",
            "📗 Apple-Cranberry Crisp\n",
            "🥕\n",
            "2 pounds Granny Smith apples - peeled, cored and thinly sliced, 3/4 cup cranberries, 1/4 cup white sugar, 1 tablespoon ground cinnamon, 1 teaspoon ground nutmeg\n",
            "📝\n",
            "Preheat the oven to 375 degrees F (190 degrees C.) Butter an 8-inch square baking dish.\n",
            "Mix apples, cranberries, white sugar, cinnamon, and nutmeg in a large bowl. Place in an even layer in the prepared baking dish.\n",
            "In the same bowl, combine oats, flour, and brown sugar for topping. Add butter pieces and mix with a fork until crumbly. Stir in pecans. Sprinkle topping over apples in the baking dish.\n",
            "Bake in the preheated oven until apples are tender and topping is golden brown, 40 to 50 minutes.\n",
            "\n",
            "\n",
            "\n",
            "Recipe #9\n",
            "---------\n",
            "📗 Old-Fashioned Apple Dumplings\n",
            "🥕\n",
            "1 recipe pastry for double-crust pie, 6 large Granny Smith apples, peeled and cored, 1/2 cup butter, 3/4 cup brown sugar, 1 teaspoon ground cinnamon, 1/2 teaspoon ground nutmeg, 3 cups water, 2 cups white sugar, 1 teaspoon vanilla extract\n",
            "📝\n",
            "Preheat the oven to 400 degrees F (200 degrees C). Butter a 9x13-inch pan.\n",
            "Roll pastry into a 24x16-inch rectangle on a lightly floured surface. Cut into six 8-inch squares. Place an apple on each pastry square with the cored opening facing upward. Cut butter into 8 pieces; place 1 piece in the opening of each apple; reserve the remaining butter for sauce.\n",
            "Divide brown sugar between apples, poking some inside each cored opening and the rest around the base of each apple. Sprinkle cinnamon and nutmeg over apples.\n",
            "Using slightly wet fingertips, bring one corner of the pastry square up to the top of the apple, then bring the opposite corner to the top and press together. Bring up the two remaining corners, and seal. Slightly pinch the dough at the sides to completely seal in the apple. Repeat with the remaining apples and place in the prepared baking dish.\n",
            "Combine water, white sugar, vanilla extract, and reserved butter in a large saucepan. Place over medium heat, and bring to a boil. Reduce the heat to low and simmer until sugar is dissolved, about 5 minutes. Carefully pour the sauce over the dumplings.\n",
            "Bake in the preheated oven for 50 to 60 minutes. Place each apple dumpling in a dessert bowl, and spoon some of the sauce over the top.\n",
            "\n",
            "\n",
            "\n",
            "Recipe #10\n",
            "---------\n",
            "📗 Southern Fried Apples\n",
            "🥕\n",
            "1/2 cup butter, 1/2 cup white sugar, 2 tablespoons ground cinnamon, 4  Granny Smith apples - peeled, cored, and sliced\n",
            "📝\n",
            "Melt butter in a large skillet over medium heat. Add sugar and cinnamon; stir until sugar dissolves.\n",
            "Add apples and cook until softened, 5 to 8 minutes.\n",
            "\n",
            "\n",
            "\n",
            "\n",
            "\n",
            "\n",
            "\n",
            "\n",
            "\n",
            "\n",
            "\n",
            "Melissa Goff\n",
            "\n",
            "\n",
            "\n",
            "\n"
          ]
        }
      ]
    },
    {
      "cell_type": "markdown",
      "source": [
        "Now, we visualize the character length within all recipes of the dataset, this is helpful as it will decide what will be the maximum lenght of characters for the generated recipes.\n",
        "It is best to keep the length as small as possible for a speedier training process."
      ],
      "metadata": {
        "id": "wa2XmrliYVjC"
      }
    },
    {
      "cell_type": "code",
      "source": [
        "import matplotlib.pyplot as plt\n",
        "\n",
        "# Calculate the lengths of the recipes in formatted_recipes\n",
        "recipes_lengths = [len(recipe_text) for recipe_text in formatted_recipes]\n",
        "\n",
        "# Plot the histogram of recipe lengths\n",
        "plt.hist(recipes_lengths, bins=50, color='skyblue', edgecolor='black')\n",
        "plt.title('Distribution of Recipe Lengths')\n",
        "plt.xlabel('Recipe Length (characters)')\n",
        "plt.ylabel('Frequency')\n",
        "plt.show()\n"
      ],
      "metadata": {
        "colab": {
          "base_uri": "https://localhost:8080/",
          "height": 472
        },
        "id": "SRTxhSrsjmM5",
        "outputId": "e2632902-f183-4770-ed64-b579999e5450"
      },
      "execution_count": null,
      "outputs": [
        {
          "output_type": "display_data",
          "data": {
            "text/plain": [
              "<Figure size 640x480 with 1 Axes>"
            ],
            "image/png": "[encoded data removed]"
          },
          "metadata": {}
        }
      ]
    },
    {
      "cell_type": "markdown",
      "source": [
        "It seems like there a clustering around lengths between 500 to 1500"
      ],
      "metadata": {
        "id": "DKt29RVKY1a0"
      }
    },
    {
      "cell_type": "code",
      "source": [
        "plt.hist(recipes_lengths, range=(500, 1500), bins=50)\n",
        "plt.show()"
      ],
      "metadata": {
        "colab": {
          "base_uri": "https://localhost:8080/",
          "height": 430
        },
        "id": "HcrCU3kHkGAR",
        "outputId": "6da0d221-0208-4114-d448-3dddf84cbb4c"
      },
      "execution_count": null,
      "outputs": [
        {
          "output_type": "display_data",
          "data": {
            "text/plain": [
              "<Figure size 640x480 with 1 Axes>"
            ],
            "image/png": "[encoded data removed]"
          },
          "metadata": {}
        }
      ]
    },
    {
      "cell_type": "markdown",
      "source": [
        "Zooming in the graph a bit more, we can see that the data mostly conists of 400-800 characters. However, since we have a small dataset and we want the model to prevent overfitting, we deicded to set the maximum length to 1200. As it seems to be a reasonable point."
      ],
      "metadata": {
        "id": "p-iLiHW0ZN-L"
      }
    },
    {
      "cell_type": "code",
      "source": [
        "MAX_RECIPE_LENGTH = 1200"
      ],
      "metadata": {
        "id": "L-R_uf4lkzpP"
      },
      "execution_count": null,
      "outputs": []
    },
    {
      "cell_type": "markdown",
      "source": [
        "Here we filtered any recipe that consists of more than 1200 characters to unify the maximum length for all recipes."
      ],
      "metadata": {
        "id": "2uk4PaJfZxQe"
      }
    },
    {
      "cell_type": "code",
      "source": [
        "def filter_recipes_by_length(recipe_test):\n",
        "    return len(recipe_test) <= MAX_RECIPE_LENGTH\n",
        "dataset_filtered = [recipe_text for recipe_text in formatted_recipes if filter_recipes_by_length(recipe_text)]\n",
        "print('Dataset size BEFORE filtering: ', len(formatted_recipes))\n",
        "print('Dataset size AFTER filtering: ', len(dataset_filtered))\n",
        "print('Number of eliminated recipes: ', len(formatted_recipes) - len(dataset_filtered))"
      ],
      "metadata": {
        "colab": {
          "base_uri": "https://localhost:8080/"
        },
        "id": "zkHu2lm3lZps",
        "outputId": "8c83f9ae-87a3-4a8e-c2ce-4869b1afdf93"
      },
      "execution_count": null,
      "outputs": [
        {
          "output_type": "stream",
          "name": "stdout",
          "text": [
            "Dataset size BEFORE filtering:  1090\n",
            "Dataset size AFTER filtering:  876\n",
            "Number of eliminated recipes:  214\n"
          ]
        }
      ]
    },
    {
      "cell_type": "markdown",
      "source": [
        "Furtherly, we examine how many data records left that satisfy the criteria."
      ],
      "metadata": {
        "id": "izZOCsTWaBJ8"
      }
    },
    {
      "cell_type": "code",
      "source": [
        "TOTAL_RECIPES_NUM = len(dataset_filtered)\n",
        "print('MAX_RECIPE_LENGTH: ', MAX_RECIPE_LENGTH)\n",
        "print('TOTAL_RECIPES_NUM: ', TOTAL_RECIPES_NUM)"
      ],
      "metadata": {
        "colab": {
          "base_uri": "https://localhost:8080/"
        },
        "id": "dh4L7qr8mw0G",
        "outputId": "06826d2c-2530-435d-c898-d9792767a235"
      },
      "execution_count": null,
      "outputs": [
        {
          "output_type": "stream",
          "name": "stdout",
          "text": [
            "MAX_RECIPE_LENGTH:  1200\n",
            "TOTAL_RECIPES_NUM:  876\n"
          ]
        }
      ]
    },
    {
      "cell_type": "markdown",
      "source": [
        "# Vocabulary Creation\n",
        "As recurrent neural networks (RNN) do not comprehend textual data, the recipes dataset must be converted into some sort of numerical format.\n",
        "As we will be using a character-based LSTM (Long Short Term Memory) to create unique numbers or indices per character, so the model will predict the next character instead of the next word."
      ],
      "metadata": {
        "id": "QE16o0d4aKIt"
      }
    },
    {
      "cell_type": "markdown",
      "source": [
        "In the following code segment, we will define a stop sign variable that signifies a recipe ended once the recipe has generated to distinguish between recipes.\n",
        "Furthermore, it is important to preserve the case sensitivity for this task. As\n",
        "\n",
        "*   The dataset capatalizes recipe names such as: Homemade Apple Cider.\n",
        "*   Maintaing case sensitivty helps distinguish between the recipe name and \"homemade apple cider\" the ingredient.\n",
        "\n"
      ],
      "metadata": {
        "id": "1IvIdlFIcTDR"
      }
    },
    {
      "cell_type": "code",
      "source": [
        "STOP_SIGN = '␣'\n",
        "tokenizer = tf.keras.preprocessing.text.Tokenizer(\n",
        "    char_level=True,\n",
        "    filters='',\n",
        "    lower=False,\n",
        "    split=''\n",
        ")\n",
        "# Stop word is not a part of recipes, but tokenizer must know about it as well.\n",
        "tokenizer.fit_on_texts([STOP_SIGN])\n",
        "tokenizer.fit_on_texts(dataset_filtered)\n",
        "tokenizer.get_config()"
      ],
      "metadata": {
        "colab": {
          "base_uri": "https://localhost:8080/"
        },
        "id": "8swq_xNMnrK3",
        "outputId": "fc9d0eb6-1765-47f2-c756-9d543fcc0781"
      },
      "execution_count": null,
      "outputs": [
        {
          "output_type": "execute_result",
          "data": {
            "text/plain": [
              "{'num_words': None,\n",
              " 'filters': '',\n",
              " 'lower': False,\n",
              " 'split': '',\n",
              " 'char_level': True,\n",
              " 'oov_token': None,\n",
              " 'document_count': 877,\n",
              " 'word_counts': '{\"\\\\u2423\": 1, \"R\": 1321, \"e\": 57097, \"c\": 18534, \"i\": 29967, \"p\": 19009, \" \": 100283, \"#\": 876, \"3\": 1628, \"\\\\n\": 10480, \"-\": 9113, \"\\\\ud83d\\\\udcd7\": 876, \"S\": 1433, \"a\": 36831, \"r\": 29149, \"h\": 14061, \"\\'\": 147, \"s\": 26369, \"H\": 167, \"o\": 34132, \"m\": 10769, \"d\": 17711, \"A\": 665, \"l\": 21992, \"u\": 18117, \"\\\\ud83e\\\\udd55\": 876, \"4\": 1741, \",\": 12878, \"n\": 33037, \"/\": 2391, \"w\": 5921, \"t\": 33349, \"1\": 6516, \"g\": 11079, \"2\": 3571, \"\\\\ud83d\\\\udcdd\": 876, \"C\": 1670, \"b\": 8624, \";\": 689, \"v\": 4315, \"k\": 4910, \"f\": 5624, \"5\": 1537, \"0\": 1472, \".\": 6059, \"x\": 1783, \"y\": 2954, \"P\": 1469, \"q\": 279, \"F\": 792, \"(\": 1032, \"7\": 604, \")\": 1031, \"9\": 554, \"M\": 657, \"B\": 1034, \"D\": 325, \"8\": 528, \"j\": 985, \"T\": 332, \"6\": 537, \"L\": 292, \"z\": 533, \"E\": 113, \"O\": 177, \"\\\\u2153\": 134, \"G\": 337, \"I\": 300, \"\\\\u00e9\": 17, \"J\": 61, \"\\\\u215b\": 48, \":\": 68, \"K\": 49, \"\\\\u2154\": 44, \"W\": 245, \"U\": 47, \"V\": 28, \"Q\": 17, \"\\\\u00ae\": 59, \"!\": 7, \"N\": 42, \"Z\": 4, \"\\\\\"\": 6, \"%\": 3, \"\\\\u00f1\": 3, \"\\\\u00e7\": 1, \"Y\": 8, \"\\\\u215d\": 1, \"\\\\u215e\": 1, \"_\": 1}',\n",
              " 'word_docs': '{\"\\\\u2423\": 1, \",\": 875, \"1\": 874, \"#\": 876, \".\": 876, \"A\": 459, \"d\": 876, \"R\": 876, \"v\": 843, \";\": 435, \"p\": 876, \"\\\\ud83d\\\\udcdd\": 876, \"h\": 876, \"r\": 876, \"k\": 816, \"o\": 876, \"x\": 637, \"H\": 142, \"\\\\ud83d\\\\udcd7\": 876, \"\\\\ud83e\\\\udd55\": 876, \" \": 876, \"3\": 699, \"2\": 834, \"\\\\n\": 876, \"S\": 739, \"w\": 854, \"g\": 873, \"c\": 876, \"-\": 876, \"f\": 831, \"C\": 719, \"l\": 876, \"5\": 636, \"s\": 876, \"n\": 876, \"e\": 876, \"y\": 792, \"a\": 876, \"P\": 705, \"u\": 876, \"4\": 731, \"t\": 876, \"\\'\": 112, \"/\": 768, \"i\": 876, \"m\": 876, \"b\": 869, \"0\": 621, \"7\": 470, \"q\": 214, \"(\": 589, \"F\": 547, \")\": 588, \"M\": 439, \"9\": 407, \"B\": 595, \"D\": 262, \"T\": 256, \"j\": 421, \"6\": 409, \"z\": 269, \"L\": 236, \"8\": 404, \"O\": 126, \"E\": 106, \"\\\\u2153\": 110, \"G\": 282, \"I\": 202, \"J\": 60, \"\\\\u00e9\": 14, \"\\\\u215b\": 42, \"K\": 46, \":\": 42, \"U\": 44, \"\\\\u2154\": 41, \"W\": 204, \"V\": 27, \"Q\": 16, \"\\\\u00ae\": 50, \"!\": 7, \"N\": 39, \"Z\": 4, \"\\\\\"\": 3, \"%\": 3, \"\\\\u00f1\": 3, \"\\\\u00e7\": 1, \"Y\": 7, \"\\\\u215d\": 1, \"\\\\u215e\": 1, \"_\": 1}',\n",
              " 'index_docs': '{\"1\": 876, \"86\": 1, \"16\": 875, \"22\": 874, \"44\": 876, \"23\": 876, \"50\": 459, \"14\": 876, \"39\": 876, \"27\": 843, \"49\": 435, \"11\": 876, \"47\": 876, \"15\": 876, \"8\": 876, \"26\": 816, \"4\": 876, \"31\": 637, \"65\": 142, \"45\": 876, \"46\": 876, \"34\": 699, \"28\": 834, \"19\": 876, \"38\": 739, \"24\": 854, \"17\": 873, \"12\": 876, \"20\": 876, \"25\": 831, \"33\": 719, \"10\": 876, \"35\": 636, \"9\": 876, \"6\": 876, \"2\": 876, \"29\": 792, \"3\": 876, \"37\": 705, \"13\": 876, \"32\": 731, \"5\": 876, \"66\": 112, \"30\": 768, \"7\": 876, \"18\": 876, \"21\": 869, \"36\": 621, \"52\": 470, \"62\": 214, \"41\": 589, \"48\": 547, \"42\": 588, \"51\": 439, \"53\": 407, \"40\": 595, \"59\": 262, \"58\": 256, \"43\": 421, \"54\": 409, \"55\": 269, \"61\": 236, \"56\": 404, \"64\": 126, \"68\": 106, \"67\": 110, \"57\": 282, \"60\": 202, \"70\": 60, \"78\": 14, \"73\": 42, \"72\": 46, \"69\": 42, \"74\": 44, \"75\": 41, \"63\": 204, \"77\": 27, \"79\": 16, \"71\": 50, \"81\": 7, \"76\": 39, \"83\": 4, \"82\": 3, \"84\": 3, \"85\": 3, \"87\": 1, \"80\": 7, \"88\": 1, \"89\": 1, \"90\": 1}',\n",
              " 'index_word': '{\"1\": \" \", \"2\": \"e\", \"3\": \"a\", \"4\": \"o\", \"5\": \"t\", \"6\": \"n\", \"7\": \"i\", \"8\": \"r\", \"9\": \"s\", \"10\": \"l\", \"11\": \"p\", \"12\": \"c\", \"13\": \"u\", \"14\": \"d\", \"15\": \"h\", \"16\": \",\", \"17\": \"g\", \"18\": \"m\", \"19\": \"\\\\n\", \"20\": \"-\", \"21\": \"b\", \"22\": \"1\", \"23\": \".\", \"24\": \"w\", \"25\": \"f\", \"26\": \"k\", \"27\": \"v\", \"28\": \"2\", \"29\": \"y\", \"30\": \"/\", \"31\": \"x\", \"32\": \"4\", \"33\": \"C\", \"34\": \"3\", \"35\": \"5\", \"36\": \"0\", \"37\": \"P\", \"38\": \"S\", \"39\": \"R\", \"40\": \"B\", \"41\": \"(\", \"42\": \")\", \"43\": \"j\", \"44\": \"#\", \"45\": \"\\\\ud83d\\\\udcd7\", \"46\": \"\\\\ud83e\\\\udd55\", \"47\": \"\\\\ud83d\\\\udcdd\", \"48\": \"F\", \"49\": \";\", \"50\": \"A\", \"51\": \"M\", \"52\": \"7\", \"53\": \"9\", \"54\": \"6\", \"55\": \"z\", \"56\": \"8\", \"57\": \"G\", \"58\": \"T\", \"59\": \"D\", \"60\": \"I\", \"61\": \"L\", \"62\": \"q\", \"63\": \"W\", \"64\": \"O\", \"65\": \"H\", \"66\": \"\\'\", \"67\": \"\\\\u2153\", \"68\": \"E\", \"69\": \":\", \"70\": \"J\", \"71\": \"\\\\u00ae\", \"72\": \"K\", \"73\": \"\\\\u215b\", \"74\": \"U\", \"75\": \"\\\\u2154\", \"76\": \"N\", \"77\": \"V\", \"78\": \"\\\\u00e9\", \"79\": \"Q\", \"80\": \"Y\", \"81\": \"!\", \"82\": \"\\\\\"\", \"83\": \"Z\", \"84\": \"%\", \"85\": \"\\\\u00f1\", \"86\": \"\\\\u2423\", \"87\": \"\\\\u00e7\", \"88\": \"\\\\u215d\", \"89\": \"\\\\u215e\", \"90\": \"_\"}',\n",
              " 'word_index': '{\" \": 1, \"e\": 2, \"a\": 3, \"o\": 4, \"t\": 5, \"n\": 6, \"i\": 7, \"r\": 8, \"s\": 9, \"l\": 10, \"p\": 11, \"c\": 12, \"u\": 13, \"d\": 14, \"h\": 15, \",\": 16, \"g\": 17, \"m\": 18, \"\\\\n\": 19, \"-\": 20, \"b\": 21, \"1\": 22, \".\": 23, \"w\": 24, \"f\": 25, \"k\": 26, \"v\": 27, \"2\": 28, \"y\": 29, \"/\": 30, \"x\": 31, \"4\": 32, \"C\": 33, \"3\": 34, \"5\": 35, \"0\": 36, \"P\": 37, \"S\": 38, \"R\": 39, \"B\": 40, \"(\": 41, \")\": 42, \"j\": 43, \"#\": 44, \"\\\\ud83d\\\\udcd7\": 45, \"\\\\ud83e\\\\udd55\": 46, \"\\\\ud83d\\\\udcdd\": 47, \"F\": 48, \";\": 49, \"A\": 50, \"M\": 51, \"7\": 52, \"9\": 53, \"6\": 54, \"z\": 55, \"8\": 56, \"G\": 57, \"T\": 58, \"D\": 59, \"I\": 60, \"L\": 61, \"q\": 62, \"W\": 63, \"O\": 64, \"H\": 65, \"\\'\": 66, \"\\\\u2153\": 67, \"E\": 68, \":\": 69, \"J\": 70, \"\\\\u00ae\": 71, \"K\": 72, \"\\\\u215b\": 73, \"U\": 74, \"\\\\u2154\": 75, \"N\": 76, \"V\": 77, \"\\\\u00e9\": 78, \"Q\": 79, \"Y\": 80, \"!\": 81, \"\\\\\"\": 82, \"Z\": 83, \"%\": 84, \"\\\\u00f1\": 85, \"\\\\u2423\": 86, \"\\\\u00e7\": 87, \"\\\\u215d\": 88, \"\\\\u215e\": 89, \"_\": 90}'}"
            ]
          },
          "metadata": {},
          "execution_count": 20
        }
      ]
    },
    {
      "cell_type": "markdown",
      "source": [
        "We observe the resulting the vocabulary size post-tokenization."
      ],
      "metadata": {
        "id": "Vw9_As3YetIk"
      }
    },
    {
      "cell_type": "code",
      "source": [
        "#Add 1 to get the full size of the vocab. Index 0 is reserved.\n",
        "VOCABULARY_SIZE = len(tokenizer.word_counts) + 1\n",
        "print('VOCABULARY_SIZE: ', VOCABULARY_SIZE)"
      ],
      "metadata": {
        "colab": {
          "base_uri": "https://localhost:8080/"
        },
        "id": "-cQpsGRTo8G_",
        "outputId": "69095792-01b4-473c-bb66-89bfae2bc349"
      },
      "execution_count": null,
      "outputs": [
        {
          "output_type": "stream",
          "name": "stdout",
          "text": [
            "VOCABULARY_SIZE:  91\n"
          ]
        }
      ]
    },
    {
      "cell_type": "markdown",
      "source": [
        "Observe which tokens map to which indecies and vise-versa."
      ],
      "metadata": {
        "id": "0ECX4QqufJKR"
      }
    },
    {
      "cell_type": "code",
      "source": [
        "print(tokenizer.index_word[5])\n",
        "print(tokenizer.index_word[20])"
      ],
      "metadata": {
        "colab": {
          "base_uri": "https://localhost:8080/"
        },
        "id": "ICGv1HiFpF-m",
        "outputId": "0ce48107-3dac-437c-a39c-e86cabf4febf"
      },
      "execution_count": null,
      "outputs": [
        {
          "output_type": "stream",
          "name": "stdout",
          "text": [
            "t\n",
            "-\n"
          ]
        }
      ]
    },
    {
      "cell_type": "code",
      "source": [
        "tokenizer.word_index['r']"
      ],
      "metadata": {
        "colab": {
          "base_uri": "https://localhost:8080/"
        },
        "id": "s_zsrOKopQdi",
        "outputId": "897d3305-eaf5-4e78-dfe5-c9f7abf45625"
      },
      "execution_count": null,
      "outputs": [
        {
          "output_type": "execute_result",
          "data": {
            "text/plain": [
              "8"
            ]
          },
          "metadata": {},
          "execution_count": 23
        }
      ]
    },
    {
      "cell_type": "markdown",
      "source": [
        "Furtherly, we observe what kind of tokens will the model be trained upon.\n",
        "As it will try to assmeble in a certain sequence to generate recipes."
      ],
      "metadata": {
        "id": "3JmPAS2Yfm75"
      }
    },
    {
      "cell_type": "code",
      "source": [
        "array_vocabulary = tokenizer.sequences_to_texts([[word_index] for word_index in range(VOCABULARY_SIZE)])\n",
        "print([char for char in array_vocabulary])"
      ],
      "metadata": {
        "colab": {
          "base_uri": "https://localhost:8080/"
        },
        "id": "GsEUWxeepWPq",
        "outputId": "823ba1f2-83cb-42e0-f03d-2d48639bc578"
      },
      "execution_count": null,
      "outputs": [
        {
          "output_type": "stream",
          "name": "stdout",
          "text": [
            "['', ' ', 'e', 'a', 'o', 't', 'n', 'i', 'r', 's', 'l', 'p', 'c', 'u', 'd', 'h', ',', 'g', 'm', '\\n', '-', 'b', '1', '.', 'w', 'f', 'k', 'v', '2', 'y', '/', 'x', '4', 'C', '3', '5', '0', 'P', 'S', 'R', 'B', '(', ')', 'j', '#', '📗', '🥕', '📝', 'F', ';', 'A', 'M', '7', '9', '6', 'z', '8', 'G', 'T', 'D', 'I', 'L', 'q', 'W', 'O', 'H', \"'\", '⅓', 'E', ':', 'J', '®', 'K', '⅛', 'U', '⅔', 'N', 'V', 'é', 'Q', 'Y', '!', '\"', 'Z', '%', 'ñ', '␣', 'ç', '⅝', '⅞', '_']\n"
          ]
        }
      ]
    },
    {
      "cell_type": "markdown",
      "source": [
        "Obeserving how the tokenizer converts text into indecies."
      ],
      "metadata": {
        "id": "orh7n_7gf4oL"
      }
    },
    {
      "cell_type": "code",
      "source": [
        "tokenizer.texts_to_sequences(['apple'])"
      ],
      "metadata": {
        "colab": {
          "base_uri": "https://localhost:8080/"
        },
        "id": "ssD6y5plpbw9",
        "outputId": "395820d6-bd50-4279-cde2-6fad9248b659"
      },
      "execution_count": null,
      "outputs": [
        {
          "output_type": "execute_result",
          "data": {
            "text/plain": [
              "[[3, 11, 11, 10, 2]]"
            ]
          },
          "metadata": {},
          "execution_count": 25
        }
      ]
    },
    {
      "cell_type": "markdown",
      "source": [
        "Now, we will form the input for RNN. As mentioned earlier, RNN only deals with numerical input, which is why we'll convert the dataset's textual tokens into their respective indecies."
      ],
      "metadata": {
        "id": "g9Y3Vk99gOVv"
      }
    },
    {
      "cell_type": "code",
      "source": [
        "dataset_vectorized = tokenizer.texts_to_sequences(dataset_filtered)\n",
        "print('Vectorized dataset size', len(dataset_vectorized))"
      ],
      "metadata": {
        "colab": {
          "base_uri": "https://localhost:8080/"
        },
        "id": "2ssOc4TIpr-A",
        "outputId": "c8aa615c-d45c-4f9b-b912-31e3668824f9"
      },
      "execution_count": null,
      "outputs": [
        {
          "output_type": "stream",
          "name": "stdout",
          "text": [
            "Vectorized dataset size 876\n"
          ]
        }
      ]
    },
    {
      "cell_type": "markdown",
      "source": [
        "The beginning of the very first recipe, post-vectorization.\n",
        "As we can see, it has been converted into a vector of indecies, each of which corresponding to their (character) token."
      ],
      "metadata": {
        "id": "TSXV9PfQhE_E"
      }
    },
    {
      "cell_type": "code",
      "source": [
        "print(dataset_vectorized[0][:10], '...')"
      ],
      "metadata": {
        "colab": {
          "base_uri": "https://localhost:8080/"
        },
        "id": "Qczcc7phqBNt",
        "outputId": "bb8d5a1c-207d-42e1-beeb-b303720c0614"
      },
      "execution_count": null,
      "outputs": [
        {
          "output_type": "stream",
          "name": "stdout",
          "text": [
            "[39, 2, 12, 7, 11, 2, 1, 44, 34, 19] ...\n"
          ]
        }
      ]
    },
    {
      "cell_type": "markdown",
      "source": [
        "Obsereve how the sequence of tokens back to strings, to see how the model outputs the recipes after dealing with them in a numerical format."
      ],
      "metadata": {
        "id": "rRH0wZRThdkf"
      }
    },
    {
      "cell_type": "code",
      "source": [
        "def recipe_sequence_to_string(recipe_sequence):\n",
        "    # Convert the tokenized sequence back to text (with spaces between characters)\n",
        "    recipe_stringified = tokenizer.sequences_to_texts([recipe_sequence])[0]\n",
        "\n",
        "    # Remove spaces between characters but preserve the original structure\n",
        "    # Using regular expressions to replace multiple spaces between characters with a single space\n",
        "    import re\n",
        "    recipe_stringified = re.sub(r'(?<=\\S) (?=\\S)', '', recipe_stringified)\n",
        "\n",
        "    print(recipe_stringified)\n",
        "\n",
        "recipe_sequence_to_string(dataset_vectorized[0])\n"
      ],
      "metadata": {
        "colab": {
          "base_uri": "https://localhost:8080/"
        },
        "id": "8ADBQn02tj_b",
        "outputId": "127ed8cd-4725-4c32-a6f8-f947fee5d44d"
      },
      "execution_count": null,
      "outputs": [
        {
          "output_type": "stream",
          "name": "stdout",
          "text": [
            "Recipe   #3 \n",
            " --------- \n",
            " 📗   Sarah's   Homemade   Applesauce \n",
            " 🥕 \n",
            " 4     apples   -   peeled,   cored   and   chopped,   3/4   cup   water,   1/4   cup   white   sugar,   1/2   teaspoon   ground   cinnamon \n",
            " 📝 \n",
            " Combine   apples,   water,   sugar,   and   cinnamon   in   a   saucepan;   cover   and   cook   over   medium   heat   until   apples   are   soft,   about   15   to   20   minutes. \n",
            " Allow   apple   mixture   to   cool,   then   mash   with   a   fork   or   potato   masher   until   it   is   the   consistency   you   like. \n",
            " \n",
            " \n",
            " \n",
            " \n",
            " \n",
            " \n",
            " \n",
            " \n",
            " \n",
            " \n",
            " \n",
            " Photo   by   cookin'mama. \n",
            " cookin   mama \n",
            " \n",
            "\n"
          ]
        }
      ]
    },
    {
      "cell_type": "markdown",
      "source": [
        "# Padding\n",
        "In this section of the notebook, we aim to pad the recipes so they'll have a unifrom length when training the model. The padding will be using the earlier defined stop sign in the Vocabulary Creation section.\n",
        "Simply, we'll start by observing the various recipe lengths within our dataset and pad them using our stop sign to observe changes.\n",
        "Padding helps our model learn the end of each recipe. Therefore, once it generates new recipes it will place the stop sign at the end to signify ending."
      ],
      "metadata": {
        "id": "pvUkv8bfiMJb"
      }
    },
    {
      "cell_type": "code",
      "source": [
        "for recipe_index, recipe in enumerate(dataset_vectorized[:10]):\n",
        "    print('Recipe #{} length: {}'.format(recipe_index + 1, len(recipe)))"
      ],
      "metadata": {
        "colab": {
          "base_uri": "https://localhost:8080/"
        },
        "id": "b6WC78fVqLgt",
        "outputId": "18e056d5-3123-4dfe-d8d6-9f6250e29367"
      },
      "execution_count": null,
      "outputs": [
        {
          "output_type": "stream",
          "name": "stdout",
          "text": [
            "Recipe #1 length: 447\n",
            "Recipe #2 length: 884\n",
            "Recipe #3 length: 827\n",
            "Recipe #4 length: 752\n",
            "Recipe #5 length: 494\n",
            "Recipe #6 length: 709\n",
            "Recipe #7 length: 346\n",
            "Recipe #8 length: 672\n",
            "Recipe #9 length: 865\n",
            "Recipe #10 length: 617\n"
          ]
        }
      ]
    },
    {
      "cell_type": "code",
      "source": [
        "dataset_vectorized_padded_without_stops = tf.keras.preprocessing.sequence.pad_sequences(\n",
        "    dataset_vectorized,\n",
        "    padding='post',\n",
        "    truncating='post',\n",
        "    # We use -1 here and +1 in the next step to make sure\n",
        "    # that all recipes will have at least 1 stops sign at the end,\n",
        "    # since each sequence will be shifted and truncated afterwards\n",
        "    # (to generate X and Y sequences).\n",
        "    maxlen=MAX_RECIPE_LENGTH-1,\n",
        "    value=tokenizer.texts_to_sequences([STOP_SIGN])[0]\n",
        ")\n",
        "dataset_vectorized_padded = tf.keras.preprocessing.sequence.pad_sequences(\n",
        "    dataset_vectorized_padded_without_stops,\n",
        "    padding='post',\n",
        "    truncating='post',\n",
        "    maxlen=MAX_RECIPE_LENGTH+1,\n",
        "    value=tokenizer.texts_to_sequences([STOP_SIGN])[0]\n",
        ")\n",
        "for recipe_index, recipe in enumerate(dataset_vectorized_padded[:10]):\n",
        "    print('Recipe #{} length: {}'.format(recipe_index, len(recipe)))"
      ],
      "metadata": {
        "colab": {
          "base_uri": "https://localhost:8080/"
        },
        "id": "YTYd-riuurh0",
        "outputId": "fa020bf6-5409-46a5-f470-b8a4891a5e64"
      },
      "execution_count": null,
      "outputs": [
        {
          "output_type": "stream",
          "name": "stdout",
          "text": [
            "Recipe #0 length: 1201\n",
            "Recipe #1 length: 1201\n",
            "Recipe #2 length: 1201\n",
            "Recipe #3 length: 1201\n",
            "Recipe #4 length: 1201\n",
            "Recipe #5 length: 1201\n",
            "Recipe #6 length: 1201\n",
            "Recipe #7 length: 1201\n",
            "Recipe #8 length: 1201\n",
            "Recipe #9 length: 1201\n"
          ]
        }
      ]
    },
    {
      "cell_type": "markdown",
      "source": [
        "In here we obsereve that recipes must all include a stop sign at the end. Which explains why they're one more than the specified maximum character length."
      ],
      "metadata": {
        "id": "fgXBF5iqkIPN"
      }
    },
    {
      "cell_type": "markdown",
      "source": [
        "Observing how recipe converts back from vector to text. Notice the padding at the very end."
      ],
      "metadata": {
        "id": "ruT9YWlUkV0s"
      }
    },
    {
      "cell_type": "code",
      "source": [
        "recipe_sequence_to_string(dataset_vectorized_padded[0])"
      ],
      "metadata": {
        "colab": {
          "base_uri": "https://localhost:8080/"
        },
        "id": "KnQp5VjLuzm5",
        "outputId": "817ecfa2-40b9-4c46-a784-8f5a72c138fd"
      },
      "execution_count": null,
      "outputs": [
        {
          "output_type": "stream",
          "name": "stdout",
          "text": [
            "Recipe   #3 \n",
            " --------- \n",
            " 📗   Sarah's   Homemade   Applesauce \n",
            " 🥕 \n",
            " 4     apples   -   peeled,   cored   and   chopped,   3/4   cup   water,   1/4   cup   white   sugar,   1/2   teaspoon   ground   cinnamon \n",
            " 📝 \n",
            " Combine   apples,   water,   sugar,   and   cinnamon   in   a   saucepan;   cover   and   cook   over   medium   heat   until   apples   are   soft,   about   15   to   20   minutes. \n",
            " Allow   apple   mixture   to   cool,   then   mash   with   a   fork   or   potato   masher   until   it   is   the   consistency   you   like. \n",
            " \n",
            " \n",
            " \n",
            " \n",
            " \n",
            " \n",
            " \n",
            " \n",
            " \n",
            " \n",
            " \n",
            " Photo   by   cookin'mama. \n",
            " cookin   mama \n",
            " \n",
            " ␣␣␣␣␣␣␣␣␣␣␣␣␣␣␣␣␣␣␣␣␣␣␣␣␣␣␣␣␣␣␣␣␣␣␣␣␣␣␣␣␣␣␣␣␣␣␣␣␣␣␣␣␣␣␣␣␣␣␣␣␣␣␣␣␣␣␣␣␣␣␣␣␣␣␣␣␣␣␣␣␣␣␣␣␣␣␣␣␣␣␣␣␣␣␣␣␣␣␣␣␣␣␣␣␣␣␣␣␣␣␣␣␣␣␣␣␣␣␣␣␣␣␣␣␣␣␣␣␣␣␣␣␣␣␣␣␣␣␣␣␣␣␣␣␣␣␣␣␣␣␣␣␣␣␣␣␣␣␣␣␣␣␣␣␣␣␣␣␣␣␣␣␣␣␣␣␣␣␣␣␣␣␣␣␣␣␣␣␣␣␣␣␣␣␣␣␣␣␣␣␣␣␣␣␣␣␣␣␣␣␣␣␣␣␣␣␣␣␣␣␣␣␣␣␣␣␣␣␣␣␣␣␣␣␣␣␣␣␣␣␣␣␣␣␣␣␣␣␣␣␣␣␣␣␣␣␣␣␣␣␣␣␣␣␣␣␣␣␣␣␣␣␣␣␣␣␣␣␣␣␣␣␣␣␣␣␣␣␣␣␣␣␣␣␣␣␣␣␣␣␣␣␣␣␣␣␣␣␣␣␣␣␣␣␣␣␣␣␣␣␣␣␣␣␣␣␣␣␣␣␣␣␣␣␣␣␣␣␣␣␣␣␣␣␣␣␣␣␣␣␣␣␣␣␣␣␣␣␣␣␣␣␣␣␣␣␣␣␣␣␣␣␣␣␣␣␣␣␣␣␣␣␣␣␣␣␣␣␣␣␣␣␣␣␣␣␣␣␣␣␣␣␣␣␣␣␣␣␣␣␣␣␣␣␣␣␣␣␣␣␣␣␣␣␣␣␣␣␣␣␣␣␣␣␣␣␣␣␣␣␣␣␣␣␣␣␣␣␣␣␣␣␣␣␣␣␣␣␣␣␣␣␣␣␣␣␣␣␣␣␣␣␣␣␣␣␣␣␣␣␣␣␣␣␣␣␣␣␣␣␣␣␣␣␣␣␣␣␣␣␣␣␣␣␣␣␣␣␣␣␣␣␣␣␣␣␣␣␣␣␣␣␣␣␣␣␣␣␣␣␣␣␣␣␣␣␣␣␣␣␣␣␣␣␣␣␣␣␣␣␣␣␣␣␣␣␣␣␣␣␣␣␣␣␣␣␣␣␣␣␣␣␣␣␣␣␣␣␣␣␣␣␣␣␣␣␣␣␣␣␣␣␣␣␣␣␣␣␣␣␣␣␣␣␣␣␣␣␣␣␣␣␣␣␣␣␣␣␣␣␣␣␣␣␣␣␣␣␣␣␣␣␣␣␣␣␣␣␣␣␣␣␣␣␣␣␣␣␣␣␣␣␣␣␣␣␣␣␣␣␣␣␣␣␣␣␣␣␣␣␣␣␣␣␣␣␣␣␣␣␣␣␣␣␣␣␣␣␣␣␣␣␣␣␣␣␣␣␣␣␣␣␣␣␣␣␣␣␣␣␣␣␣␣␣␣␣␣␣␣␣␣␣␣␣␣␣␣␣␣␣␣␣␣␣␣␣␣␣␣␣␣␣␣␣␣␣␣␣␣␣␣␣␣\n"
          ]
        }
      ]
    },
    {
      "cell_type": "markdown",
      "source": [
        "Converting the dataset into a TensorFlow dataset enables us to use a multitude of helpful functions for further processing of the data."
      ],
      "metadata": {
        "id": "B2Njz0yOk7dk"
      }
    },
    {
      "cell_type": "code",
      "source": [
        "dataset = tf.data.Dataset.from_tensor_slices(dataset_vectorized_padded)\n",
        "print(dataset)"
      ],
      "metadata": {
        "colab": {
          "base_uri": "https://localhost:8080/"
        },
        "id": "gL4aLl-hvUSK",
        "outputId": "ebe5b50e-86e6-408b-aaca-5b6e3f60c6ee"
      },
      "execution_count": null,
      "outputs": [
        {
          "output_type": "stream",
          "name": "stdout",
          "text": [
            "<_TensorSliceDataset element_spec=TensorSpec(shape=(1201,), dtype=tf.int32, name=None)>\n"
          ]
        }
      ]
    },
    {
      "cell_type": "markdown",
      "source": [
        "Checking what recipe looks like after converting it to a TensorFlow dataset."
      ],
      "metadata": {
        "id": "IPI1b1jglG8n"
      }
    },
    {
      "cell_type": "code",
      "source": [
        "for recipe in dataset.take(1):\n",
        "    print('Raw recipe:\\n', recipe.numpy(), '\\n\\n\\n')\n",
        "    print('Stringified recipe:\\n')\n",
        "    recipe_sequence_to_string(recipe.numpy())"
      ],
      "metadata": {
        "colab": {
          "base_uri": "https://localhost:8080/"
        },
        "id": "iX9ntjvlv6HF",
        "outputId": "95b5cc3d-3cda-4343-e549-65d81a6fe964"
      },
      "execution_count": null,
      "outputs": [
        {
          "output_type": "stream",
          "name": "stdout",
          "text": [
            "Raw recipe:\n",
            " [39  2 12 ... 86 86 86] \n",
            "\n",
            "\n",
            "\n",
            "Stringified recipe:\n",
            "\n",
            "Recipe   #3 \n",
            " --------- \n",
            " 📗   Sarah's   Homemade   Applesauce \n",
            " 🥕 \n",
            " 4     apples   -   peeled,   cored   and   chopped,   3/4   cup   water,   1/4   cup   white   sugar,   1/2   teaspoon   ground   cinnamon \n",
            " 📝 \n",
            " Combine   apples,   water,   sugar,   and   cinnamon   in   a   saucepan;   cover   and   cook   over   medium   heat   until   apples   are   soft,   about   15   to   20   minutes. \n",
            " Allow   apple   mixture   to   cool,   then   mash   with   a   fork   or   potato   masher   until   it   is   the   consistency   you   like. \n",
            " \n",
            " \n",
            " \n",
            " \n",
            " \n",
            " \n",
            " \n",
            " \n",
            " \n",
            " \n",
            " \n",
            " Photo   by   cookin'mama. \n",
            " cookin   mama \n",
            " \n",
            " ␣␣␣␣␣␣␣␣␣␣␣␣␣␣␣␣␣␣␣␣␣␣␣␣␣␣␣␣␣␣␣␣␣␣␣␣␣␣␣␣␣␣␣␣␣␣␣␣␣␣␣␣␣␣␣␣␣␣␣␣␣␣␣␣␣␣␣␣␣␣␣␣␣␣␣␣␣␣␣␣␣␣␣␣␣␣␣␣␣␣␣␣␣␣␣␣␣␣␣␣␣␣␣␣␣␣␣␣␣␣␣␣␣␣␣␣␣␣␣␣␣␣␣␣␣␣␣␣␣␣␣␣␣␣␣␣␣␣␣␣␣␣␣␣␣␣␣␣␣␣␣␣␣␣␣␣␣␣␣␣␣␣␣␣␣␣␣␣␣␣␣␣␣␣␣␣␣␣␣␣␣␣␣␣␣␣␣␣␣␣␣␣␣␣␣␣␣␣␣␣␣␣␣␣␣␣␣␣␣␣␣␣␣␣␣␣␣␣␣␣␣␣␣␣␣␣␣␣␣␣␣␣␣␣␣␣␣␣␣␣␣␣␣␣␣␣␣␣␣␣␣␣␣␣␣␣␣␣␣␣␣␣␣␣␣␣␣␣␣␣␣␣␣␣␣␣␣␣␣␣␣␣␣␣␣␣␣␣␣␣␣␣␣␣␣␣␣␣␣␣␣␣␣␣␣␣␣␣␣␣␣␣␣␣␣␣␣␣␣␣␣␣␣␣␣␣␣␣␣␣␣␣␣␣␣␣␣␣␣␣␣␣␣␣␣␣␣␣␣␣␣␣␣␣␣␣␣␣␣␣␣␣␣␣␣␣␣␣␣␣␣␣␣␣␣␣␣␣␣␣␣␣␣␣␣␣␣␣␣␣␣␣␣␣␣␣␣␣␣␣␣␣␣␣␣␣␣␣␣␣␣␣␣␣␣␣␣␣␣␣␣␣␣␣␣␣␣␣␣␣␣␣␣␣␣␣␣␣␣␣␣␣␣␣␣␣␣␣␣␣␣␣␣␣␣␣␣␣␣␣␣␣␣␣␣␣␣␣␣␣␣␣␣␣␣␣␣␣␣␣␣␣␣␣␣␣␣␣␣␣␣␣␣␣␣␣␣␣␣␣␣␣␣␣␣␣␣␣␣␣␣␣␣␣␣␣␣␣␣␣␣␣␣␣␣␣␣␣␣␣␣␣␣␣␣␣␣␣␣␣␣␣␣␣␣␣␣␣␣␣␣␣␣␣␣␣␣␣␣␣␣␣␣␣␣␣␣␣␣␣␣␣␣␣␣␣␣␣␣␣␣␣␣␣␣␣␣␣␣␣␣␣␣␣␣␣␣␣␣␣␣␣␣␣␣␣␣␣␣␣␣␣␣␣␣␣␣␣␣␣␣␣␣␣␣␣␣␣␣␣␣␣␣␣␣␣␣␣␣␣␣␣␣␣␣␣␣␣␣␣␣␣␣␣␣␣␣␣␣␣␣␣␣␣␣␣␣␣␣␣␣␣␣␣␣␣␣␣␣␣␣␣␣␣␣␣␣␣␣␣␣␣␣␣␣␣␣␣␣␣␣␣␣␣␣␣␣␣␣␣␣␣␣␣␣␣␣␣␣␣␣␣␣␣␣␣␣␣␣␣␣␣␣␣␣␣␣␣␣␣␣␣␣␣␣␣␣␣␣␣␣␣␣␣\n"
          ]
        }
      ]
    },
    {
      "cell_type": "markdown",
      "source": [
        "The following block splits recipe (a single sequence) into an input and a target sequence.\n",
        "In which, the input sequence takes every token except the last one. Conversely, the traget sequence takes everything but the first token.\n",
        "This is vital as it prepares data for a sequence-to-sequence task. Whereas the input is the context, and target is what the model trains to predict."
      ],
      "metadata": {
        "id": "1xM1zYm7lUE9"
      }
    },
    {
      "cell_type": "code",
      "source": [
        "def split_input_target(recipe):\n",
        "    input_text = recipe[:-1]\n",
        "    target_text = recipe[1:]\n",
        "\n",
        "    return input_text, target_text\n",
        "dataset_targeted = dataset.map(split_input_target)\n",
        "print(dataset_targeted)"
      ],
      "metadata": {
        "colab": {
          "base_uri": "https://localhost:8080/"
        },
        "id": "dZ9sXrQXwRxh",
        "outputId": "15baa3b9-3fc7-4cbe-a390-9e9bfe033311"
      },
      "execution_count": null,
      "outputs": [
        {
          "output_type": "stream",
          "name": "stdout",
          "text": [
            "<_MapDataset element_spec=(TensorSpec(shape=(1200,), dtype=tf.int32, name=None), TensorSpec(shape=(1200,), dtype=tf.int32, name=None))>\n"
          ]
        }
      ]
    },
    {
      "cell_type": "markdown",
      "source": [
        "Now, each recipe in the dataset consists of two tuples, namely input and target."
      ],
      "metadata": {
        "id": "pjnMqHEvsyAp"
      }
    },
    {
      "cell_type": "code",
      "source": [
        "for input_example, target_example in dataset_targeted.take(1):\n",
        "    print('Input sequence size:', repr(len(input_example.numpy())))\n",
        "    print('Target sequence size:', repr(len(target_example.numpy())))\n",
        "    print()\n",
        "\n",
        "    input_stringified = tokenizer.sequences_to_texts([input_example.numpy()[:50]])[0]\n",
        "    target_stringified = tokenizer.sequences_to_texts([target_example.numpy()[:50]])[0]\n",
        "\n",
        "    print('Input:  ', repr(''.join(input_stringified)))\n",
        "    print('Target: ', repr(''.join(target_stringified)))\n"
      ],
      "metadata": {
        "colab": {
          "base_uri": "https://localhost:8080/"
        },
        "id": "IxV0ogkIw8mW",
        "outputId": "89c1c52c-be79-4a2d-a0d9-198e528db161"
      },
      "execution_count": null,
      "outputs": [
        {
          "output_type": "stream",
          "name": "stdout",
          "text": [
            "Input sequence size: 1200\n",
            "Target sequence size: 1200\n",
            "\n",
            "Input:   \"R e c i p e   # 3 \\n - - - - - - - - - \\n 📗   S a r a h ' s   H o m e m a d e   A p p l e s a u c e \\n\"\n",
            "Target:  \"e c i p e   # 3 \\n - - - - - - - - - \\n 📗   S a r a h ' s   H o m e m a d e   A p p l e s a u c e \\n 🥕\"\n"
          ]
        }
      ]
    },
    {
      "cell_type": "markdown",
      "source": [
        "Each index of the recipe vectors is processed a single step. As it take the previous index as context to predict the next index. More specifically, RNN considers the current and the previous index as context.\n",
        "This process will be illustrated below."
      ],
      "metadata": {
        "id": "5_yxQyniu-sT"
      }
    },
    {
      "cell_type": "code",
      "source": [
        "for i, (input_idx, target_idx) in enumerate(zip(input_example[:10], target_example[:10])):\n",
        "    print('Step {:2d}'.format(i + 1))\n",
        "    print('  input: {} ({:s})'.format(input_idx, repr(tokenizer.sequences_to_texts([[input_idx.numpy()]])[0])))\n",
        "    print('  expected output: {} ({:s})'.format(target_idx, repr(tokenizer.sequences_to_texts([[target_idx.numpy()]])[0])))"
      ],
      "metadata": {
        "colab": {
          "base_uri": "https://localhost:8080/"
        },
        "id": "CdPWCWBdxIoD",
        "outputId": "c891cf06-b636-40f0-f6b7-c5b76b9a807c"
      },
      "execution_count": null,
      "outputs": [
        {
          "output_type": "stream",
          "name": "stdout",
          "text": [
            "Step  1\n",
            "  input: 39 ('R')\n",
            "  expected output: 2 ('e')\n",
            "Step  2\n",
            "  input: 2 ('e')\n",
            "  expected output: 12 ('c')\n",
            "Step  3\n",
            "  input: 12 ('c')\n",
            "  expected output: 7 ('i')\n",
            "Step  4\n",
            "  input: 7 ('i')\n",
            "  expected output: 11 ('p')\n",
            "Step  5\n",
            "  input: 11 ('p')\n",
            "  expected output: 2 ('e')\n",
            "Step  6\n",
            "  input: 2 ('e')\n",
            "  expected output: 1 (' ')\n",
            "Step  7\n",
            "  input: 1 (' ')\n",
            "  expected output: 44 ('#')\n",
            "Step  8\n",
            "  input: 44 ('#')\n",
            "  expected output: 34 ('3')\n",
            "Step  9\n",
            "  input: 34 ('3')\n",
            "  expected output: 19 ('\\n')\n",
            "Step 10\n",
            "  input: 19 ('\\n')\n",
            "  expected output: 20 ('-')\n"
          ]
        }
      ]
    },
    {
      "cell_type": "markdown",
      "source": [
        "\n",
        "\n",
        "---\n",
        "\n"
      ],
      "metadata": {
        "id": "NIZ1jgWytQhy"
      }
    },
    {
      "cell_type": "markdown",
      "source": [
        "Currently, each recipe consists of two tuples: input and target each of length 1200."
      ],
      "metadata": {
        "id": "bHd_cfw9vvuR"
      }
    },
    {
      "cell_type": "code",
      "source": [
        "print(dataset_targeted)"
      ],
      "metadata": {
        "colab": {
          "base_uri": "https://localhost:8080/"
        },
        "id": "sFE95RWtxYYF",
        "outputId": "e98c5792-c407-48a0-decf-13a876af165d"
      },
      "execution_count": null,
      "outputs": [
        {
          "output_type": "stream",
          "name": "stdout",
          "text": [
            "<_MapDataset element_spec=(TensorSpec(shape=(1200,), dtype=tf.int32, name=None), TensorSpec(shape=(1200,), dtype=tf.int32, name=None))>\n"
          ]
        }
      ]
    },
    {
      "cell_type": "code",
      "source": [
        "print('TOTAL_RECIPES_NUM: ', TOTAL_RECIPES_NUM)\n",
        "print('MAX_RECIPE_LENGTH: ', MAX_RECIPE_LENGTH)\n",
        "print('VOCABULARY_SIZE: ', VOCABULARY_SIZE)"
      ],
      "metadata": {
        "colab": {
          "base_uri": "https://localhost:8080/"
        },
        "id": "1XyuXDxcxdeS",
        "outputId": "374e70f4-8d73-42a1-edb1-758805cf9d09"
      },
      "execution_count": null,
      "outputs": [
        {
          "output_type": "stream",
          "name": "stdout",
          "text": [
            "TOTAL_RECIPES_NUM:  876\n",
            "MAX_RECIPE_LENGTH:  1200\n",
            "VOCABULARY_SIZE:  91\n"
          ]
        }
      ]
    },
    {
      "cell_type": "markdown",
      "source": [
        "\n",
        "\n",
        "---\n",
        "\n"
      ],
      "metadata": {
        "id": "FnsKDqELtS1e"
      }
    },
    {
      "cell_type": "markdown",
      "source": [
        "# Building the model"
      ],
      "metadata": {
        "id": "Sr1qJv_1yT-k"
      }
    },
    {
      "cell_type": "markdown",
      "source": [
        "First, prepare the dataset to be split into batches, instead of processing the full dataset all at once, which can overwhelm the memory and cause problems."
      ],
      "metadata": {
        "id": "dvknKGoDwMne"
      }
    },
    {
      "cell_type": "code",
      "source": [
        "# Batch size.\n",
        "BATCH_SIZE = 64\n",
        "# Buffer size to shuffle the dataset (TF data is designed to work\n",
        "# with possibly infinite sequences, so it doesn't attempt to shuffle\n",
        "# the entire sequence in memory. Instead, it maintains a buffer in\n",
        "# which it shuffles elements).\n",
        "SHUFFLE_BUFFER_SIZE = 1000\n",
        "\n",
        "dataset_train = dataset_targeted \\\n",
        "    .shuffle(SHUFFLE_BUFFER_SIZE) \\\n",
        "    .batch(BATCH_SIZE, drop_remainder=True) \\\n",
        "    .repeat()\n",
        "\n",
        "print(dataset_train)\n"
      ],
      "metadata": {
        "colab": {
          "base_uri": "https://localhost:8080/"
        },
        "id": "rjMHA0hbx-_b",
        "outputId": "6b62e502-2c85-4829-95a5-fbc39947949d"
      },
      "execution_count": null,
      "outputs": [
        {
          "output_type": "stream",
          "name": "stdout",
          "text": [
            "<_RepeatDataset element_spec=(TensorSpec(shape=(64, 1200), dtype=tf.int32, name=None), TensorSpec(shape=(64, 1200), dtype=tf.int32, name=None))>\n"
          ]
        }
      ]
    },
    {
      "cell_type": "markdown",
      "source": [
        "Our dataset now is split of batches of 64, each consisting of two tuples with of length 1200."
      ],
      "metadata": {
        "id": "ddywnpq-ws6l"
      }
    },
    {
      "cell_type": "code",
      "source": [
        "for input_text, target_text in dataset_train.take(1):\n",
        "    print('1st batch: input_text:', input_text)\n",
        "    print()\n",
        "    print('1st batch: target_text:', target_text)"
      ],
      "metadata": {
        "colab": {
          "base_uri": "https://localhost:8080/"
        },
        "id": "pS3oRrPEyOgX",
        "outputId": "975e9171-2be5-4eac-e098-35d0324238d0"
      },
      "execution_count": null,
      "outputs": [
        {
          "output_type": "stream",
          "name": "stdout",
          "text": [
            "1st batch: input_text: tf.Tensor(\n",
            "[[39  2 12 ... 86 86 86]\n",
            " [39  2 12 ... 86 86 86]\n",
            " [39  2 12 ... 86 86 86]\n",
            " ...\n",
            " [39  2 12 ... 86 86 86]\n",
            " [39  2 12 ... 86 86 86]\n",
            " [39  2 12 ... 86 86 86]], shape=(64, 1200), dtype=int32)\n",
            "\n",
            "1st batch: target_text: tf.Tensor(\n",
            "[[ 2 12  7 ... 86 86 86]\n",
            " [ 2 12  7 ... 86 86 86]\n",
            " [ 2 12  7 ... 86 86 86]\n",
            " ...\n",
            " [ 2 12  7 ... 86 86 86]\n",
            " [ 2 12  7 ... 86 86 86]\n",
            " [ 2 12  7 ... 86 86 86]], shape=(64, 1200), dtype=int32)\n"
          ]
        }
      ]
    },
    {
      "cell_type": "markdown",
      "source": [
        "For each character the model looks up the embedding, runs the LSTM one time-step with the embedding as input, and applies the dense layer to generate logits predicting the log-likelihood of the next character.\n",
        "In terms of model building, three layers were implemented.\n",
        "* Input Layer, which maps the indecies to embedding vectors of fixed size.\n",
        "* LSTM layer (hidden layer): performs computations of the RNN.\n",
        "* Output layer: displays the output using the vocabulary size."
      ],
      "metadata": {
        "id": "w9LFudEU0Atl"
      }
    },
    {
      "cell_type": "code",
      "source": [
        "def build_model(vocab_size, embedding_dim, rnn_units, batch_size):\n",
        "    model = tf.keras.models.Sequential()\n",
        "    model.add(tf.keras.layers.Embedding(\n",
        "        input_dim=vocab_size,\n",
        "        output_dim=embedding_dim,\n",
        "        batch_input_shape=[batch_size, None]\n",
        "    ))\n",
        "    model.add(tf.keras.layers.LSTM(\n",
        "        units=rnn_units,\n",
        "        return_sequences=True,\n",
        "        stateful=True,\n",
        "        recurrent_initializer=tf.keras.initializers.GlorotNormal()\n",
        "    ))\n",
        "    model.add(tf.keras.layers.Dense(vocab_size))\n",
        "\n",
        "    return model\n",
        "model = build_model(\n",
        "  vocab_size=VOCABULARY_SIZE,\n",
        "  embedding_dim=256,\n",
        "  rnn_units=1024,\n",
        "  batch_size=BATCH_SIZE\n",
        ")\n",
        "model.summary()"
      ],
      "metadata": {
        "colab": {
          "base_uri": "https://localhost:8080/"
        },
        "id": "nCk9_dEdy9n1",
        "outputId": "043cfa1a-9d86-410c-bd7d-cfc83fd24ba9"
      },
      "execution_count": null,
      "outputs": [
        {
          "output_type": "stream",
          "name": "stdout",
          "text": [
            "Model: \"sequential\"\n",
            "_________________________________________________________________\n",
            " Layer (type)                Output Shape              Param #   \n",
            "=================================================================\n",
            " embedding (Embedding)       (64, None, 256)           23296     \n",
            "                                                                 \n",
            " lstm (LSTM)                 (64, None, 1024)          5246976   \n",
            "                                                                 \n",
            " dense (Dense)               (64, None, 91)            93275     \n",
            "                                                                 \n",
            "=================================================================\n",
            "Total params: 5363547 (20.46 MB)\n",
            "Trainable params: 5363547 (20.46 MB)\n",
            "Non-trainable params: 0 (0.00 Byte)\n",
            "_________________________________________________________________\n"
          ]
        }
      ]
    },
    {
      "cell_type": "markdown",
      "source": [
        "This is to ensure that the output of the training data follows from the expected output."
      ],
      "metadata": {
        "id": "iHb4-qqj0knw"
      }
    },
    {
      "cell_type": "code",
      "source": [
        "for input_example_batch, target_example_batch in dataset_train.take(1):\n",
        "    example_batch_predictions = model(input_example_batch)\n",
        "    print(example_batch_predictions.shape, \"# (batch_size, sequence_length, vocab_size)\")"
      ],
      "metadata": {
        "colab": {
          "base_uri": "https://localhost:8080/"
        },
        "id": "K2TkaPEh1ZlM",
        "outputId": "0889fec4-5e1a-4273-b6d6-76d0520a15dd"
      },
      "execution_count": null,
      "outputs": [
        {
          "output_type": "stream",
          "name": "stdout",
          "text": [
            "(64, 1200, 91) # (batch_size, sequence_length, vocab_size)\n"
          ]
        }
      ]
    },
    {
      "cell_type": "markdown",
      "source": [
        "Which indicates that the model predicts a probability distribution over 91 vocabulary tokens for each of the 1200 timesteps in each of the 64 sequences."
      ],
      "metadata": {
        "id": "QxxjUKXG00Mz"
      }
    },
    {
      "cell_type": "markdown",
      "source": [
        "Using the vocabulary, the model tries to output the probability for each token to be assigned as the first token in the first sequence."
      ],
      "metadata": {
        "id": "hSLC6L9m1tnm"
      }
    },
    {
      "cell_type": "code",
      "source": [
        "print('Prediction for the 1st letter of the batch 1st sequence:')\n",
        "print(example_batch_predictions[0, 0])\n"
      ],
      "metadata": {
        "colab": {
          "base_uri": "https://localhost:8080/"
        },
        "id": "hxUgcqWG1gSO",
        "outputId": "5fbc69be-f490-492f-be18-e7487b0ef108"
      },
      "execution_count": null,
      "outputs": [
        {
          "output_type": "stream",
          "name": "stdout",
          "text": [
            "Prediction for the 1st letter of the batch 1st sequence:\n",
            "tf.Tensor(\n",
            "[-1.52887474e-03  4.48448677e-03  3.97046842e-03 -7.03586906e-04\n",
            " -4.79794946e-03 -4.92404448e-04 -3.83847393e-03 -6.90438785e-03\n",
            "  2.93021067e-03  1.96819892e-05 -2.18736962e-03  5.82081731e-03\n",
            " -1.75850221e-03  4.34286194e-04 -3.22650024e-03  2.09605205e-03\n",
            "  7.35197449e-04  4.27089725e-03 -1.90247502e-03  1.46167818e-03\n",
            " -4.53994796e-03 -2.62012240e-04  2.62717297e-03  6.68728375e-04\n",
            "  2.66590621e-03 -3.35361948e-03 -2.25357106e-03 -5.40147419e-04\n",
            " -5.66709787e-03 -2.21676892e-03 -9.66479303e-04 -1.51318149e-04\n",
            " -3.72541230e-03 -8.45627161e-04  7.39146816e-03 -7.44696881e-04\n",
            "  5.88968862e-03  5.92396536e-04  4.74465173e-03 -3.77798337e-04\n",
            "  2.86497921e-03  3.08086304e-03 -3.88063258e-03 -1.18779484e-04\n",
            "  2.49451655e-03 -1.50621659e-03  1.05085201e-04  5.98109746e-03\n",
            " -5.02314558e-03 -4.53095790e-03  1.60612620e-03 -2.37716333e-04\n",
            " -6.62038568e-04 -1.78074953e-03 -3.56168393e-03 -2.61212059e-04\n",
            " -1.30016007e-03  1.10375625e-03 -2.21335934e-03 -5.11677703e-04\n",
            " -5.67459688e-03  8.33150186e-03  4.17637313e-03 -8.06010328e-04\n",
            "  3.46905959e-04 -6.37334213e-03 -3.23046139e-03  3.41693778e-03\n",
            "  3.95269506e-03 -3.55484150e-03  6.88504567e-03 -2.35887058e-03\n",
            " -9.08195216e-04  4.11553681e-03  1.68466603e-03  2.06675380e-03\n",
            " -5.45537379e-03 -4.56515513e-03  3.49636003e-03  6.72747614e-03\n",
            "  1.59641984e-03  1.20252441e-03  5.56242419e-04 -3.34311830e-04\n",
            "  2.84621259e-04 -3.62574030e-03 -7.59349624e-03 -3.51390010e-03\n",
            "  5.98587748e-03  4.60526627e-03 -2.92670703e-03], shape=(91,), dtype=float32)\n"
          ]
        }
      ]
    },
    {
      "cell_type": "markdown",
      "source": [
        "For each input character the example_batch_predictions array contains a vector of probabilities of what the next character might be. If probability at position 10 in that vector is, lets say, 0.1 and the probability at position 5 is 4.1 it means that we should better pick the character with the index 5 as next following character."
      ],
      "metadata": {
        "id": "U_GpN7nZ3Csl"
      }
    },
    {
      "cell_type": "markdown",
      "source": [
        "\n",
        "\n",
        "---\n",
        "\n"
      ],
      "metadata": {
        "id": "Mbu1J25Nz2Cs"
      }
    },
    {
      "cell_type": "markdown",
      "source": [
        "Choosing the highest prediction over and over again will result in generating the same recipe over and over again which might get suck in a loop.\n",
        "Therefore, in order to get the network to predict different recipes for each input (including the same input twice), We draw samples from different predictions. Using tf.random.categorical() function, it will integrate some fuzziness to the network."
      ],
      "metadata": {
        "id": "qgOilcjn4AJ3"
      }
    },
    {
      "cell_type": "code",
      "source": [
        "# logits is 2-D Tensor with shape [batch_size, num_classes].\n",
        "# Each slice [i, :] represents the unnormalized log-probabilities for all classes.\n",
        "# In the example below we say that the probability for class \"0\"\n",
        "# (element with index 0) is low but the probability for class \"2\" is much higher.\n",
        "tmp_logits = [\n",
        "  [-0.95, 0, 0.95],\n",
        "];\n",
        "# Let's generate 5 samples. Each sample is a class index. Class probabilities\n",
        "# are being taken into account (we expect to see more samples of class \"2\").\n",
        "tmp_samples = tf.random.categorical(\n",
        "    logits=tmp_logits,\n",
        "    num_samples=5\n",
        ")\n",
        "print(tmp_samples)"
      ],
      "metadata": {
        "colab": {
          "base_uri": "https://localhost:8080/"
        },
        "id": "ql13ALwC1vre",
        "outputId": "e2947622-9bf4-4605-80c3-7edfb0f0c65f"
      },
      "execution_count": null,
      "outputs": [
        {
          "output_type": "stream",
          "name": "stdout",
          "text": [
            "tf.Tensor([[1 2 1 1 2]], shape=(1, 5), dtype=int64)\n"
          ]
        }
      ]
    },
    {
      "cell_type": "markdown",
      "source": [
        "Try it for the first sample in the batch:"
      ],
      "metadata": {
        "id": "LReK1agb9j9X"
      }
    },
    {
      "cell_type": "code",
      "source": [
        "sampled_indices = tf.random.categorical(\n",
        "    logits=example_batch_predictions[0],\n",
        "    num_samples=1\n",
        ")\n",
        "sampled_indices = tf.squeeze(\n",
        "    input=sampled_indices,\n",
        "    axis=-1\n",
        ").numpy()\n",
        "sampled_indices.shape"
      ],
      "metadata": {
        "colab": {
          "base_uri": "https://localhost:8080/"
        },
        "id": "wRgbARay2IEc",
        "outputId": "92c610e1-f085-4ddb-8713-4bc4dabc3580"
      },
      "execution_count": null,
      "outputs": [
        {
          "output_type": "execute_result",
          "data": {
            "text/plain": [
              "(1200,)"
            ]
          },
          "metadata": {},
          "execution_count": 45
        }
      ]
    },
    {
      "cell_type": "markdown",
      "source": [
        "This gives us, at each timestep, a prediction of the next character index:"
      ],
      "metadata": {
        "id": "GJGqoZWDBogy"
      }
    },
    {
      "cell_type": "code",
      "source": [
        "sampled_indices[:100]"
      ],
      "metadata": {
        "colab": {
          "base_uri": "https://localhost:8080/"
        },
        "id": "MSMQdkzo2LCD",
        "outputId": "30bd1c9b-9eb4-49ff-c280-a7e0f439b710"
      },
      "execution_count": null,
      "outputs": [
        {
          "output_type": "execute_result",
          "data": {
            "text/plain": [
              "array([24,  7, 20,  6, 84, 82, 33, 45, 77, 58, 69, 47, 37, 48, 47, 87, 78,\n",
              "       24, 27,  3, 26, 25, 54, 61, 50, 50, 32, 27,  9, 78, 51, 45, 84, 22,\n",
              "        3, 30, 27, 63, 66, 27, 41, 66, 63, 30, 79, 31, 62, 30, 13, 84, 85,\n",
              "       75, 52, 12, 70,  5, 25, 23, 62,  0, 16, 87, 10, 75, 74, 36, 44,  2,\n",
              "       18, 20, 33, 62, 56, 46, 89, 26, 48, 89, 34, 15, 42, 21, 54, 90, 84,\n",
              "       45, 67,  6, 82,  3, 45, 36, 25, 61, 39,  1, 34, 19, 67, 90])"
            ]
          },
          "metadata": {},
          "execution_count": 46
        }
      ]
    },
    {
      "cell_type": "markdown",
      "source": [
        "Visluaize the process to see what next characters predictions are converted from the indecies."
      ],
      "metadata": {
        "id": "Yt5y72DvCFyb"
      }
    },
    {
      "cell_type": "code",
      "source": [
        "print('Input:\\n', repr(''.join(tokenizer.sequences_to_texts([input_example_batch[0].numpy()[:50]]))))\n",
        "print()\n",
        "print('Next char prediction:\\n', repr(''.join(tokenizer.sequences_to_texts([sampled_indices[:50]]))))"
      ],
      "metadata": {
        "colab": {
          "base_uri": "https://localhost:8080/"
        },
        "id": "elVc9ODM2OQm",
        "outputId": "683714e7-d0aa-46d6-fa73-9e9fcde5d968"
      },
      "execution_count": null,
      "outputs": [
        {
          "output_type": "stream",
          "name": "stdout",
          "text": [
            "Input:\n",
            " 'R e c i p e   # 4 0 8 \\n - - - - - - - - - \\n 📗   C h e d d a r   P e a r   P i e \\n 🥕 \\n 1 / 2   c u p'\n",
            "\n",
            "Next char prediction:\n",
            " 'w i - n % \" C 📗 V T : 📝 P F 📝 ç é w v a k f 6 L A A 4 v s é M 📗 % 1 a / v W \\' v ( \\' W / Q x q / u %'\n"
          ]
        }
      ]
    },
    {
      "cell_type": "markdown",
      "source": [
        "This output displays random results as the model has not been trained yet."
      ],
      "metadata": {
        "id": "LC1RHZ9FDC2m"
      }
    },
    {
      "cell_type": "markdown",
      "source": [
        "# Model Training\n",
        "At this point the problem can be treated as a standard classification problem. Given the previous RNN state, and the input this time step, predict the class of the next character.\n",
        "By applying an **optimizer** and a **loss function** ."
      ],
      "metadata": {
        "id": "Gz83EXLcDLKt"
      }
    },
    {
      "cell_type": "markdown",
      "source": [
        "\n",
        "\n",
        "---\n",
        "\n"
      ],
      "metadata": {
        "id": "kRBt-HrtKEhs"
      }
    },
    {
      "cell_type": "markdown",
      "source": [
        "Since the model is newly initialized, it shouldn't be too sure of itself. Which is why the output logits should all have similar magnitudes. To ensure this, we check that the exponential of the mean loss is approximately equal to the vocabulary size. A much higher loss means the model is sure of its wrong answers, and is badly initialized. Furthermore, because our model returns logits we need to specify the necessary flag from_logits."
      ],
      "metadata": {
        "id": "z0RdJOPXIdJa"
      }
    },
    {
      "cell_type": "code",
      "source": [
        "# An objective function.\n",
        "# The function is any callable with the signature scalar_loss = fn(y_true, y_pred).\n",
        "def loss(labels, logits):\n",
        "    entropy = tf.keras.losses.sparse_categorical_crossentropy(\n",
        "      y_true=labels,\n",
        "      y_pred=logits,\n",
        "      from_logits=True\n",
        "    )\n",
        "    return entropy\n",
        "accuracy = tf.keras.metrics.SparseCategoricalAccuracy(name='accuracy')\n",
        "example_batch_loss = loss(target_example_batch, example_batch_predictions)\n",
        "print(\"Prediction shape: \", example_batch_predictions.shape, \" # (batch_size, sequence_length, vocab_size)\")\n",
        "print(\"scalar_loss.shape: \", example_batch_loss.shape)\n",
        "print(\"scalar_loss: \", example_batch_loss.numpy().mean())"
      ],
      "metadata": {
        "colab": {
          "base_uri": "https://localhost:8080/"
        },
        "id": "MFArVn0P2Sbh",
        "outputId": "944259c2-ce6f-42fd-e8c8-e9c64dee91d2"
      },
      "execution_count": null,
      "outputs": [
        {
          "output_type": "stream",
          "name": "stdout",
          "text": [
            "Prediction shape:  (64, 1200, 91)  # (batch_size, sequence_length, vocab_size)\n",
            "scalar_loss.shape:  (64, 1200)\n",
            "scalar_loss:  4.508027\n"
          ]
        }
      ]
    },
    {
      "cell_type": "markdown",
      "source": [
        "The exponential of 4.5093703 is approximately 90.86, and the vocabulary size is 91. Which is approaximately equal."
      ],
      "metadata": {
        "id": "4vYCF7WzJP0B"
      }
    },
    {
      "cell_type": "markdown",
      "source": [
        "\n",
        "\n",
        "---\n",
        "\n"
      ],
      "metadata": {
        "id": "MUT_EMcpKTkd"
      }
    },
    {
      "cell_type": "markdown",
      "source": [
        "Now, it is time to compile the model and configure the checkpoints."
      ],
      "metadata": {
        "id": "drtn6a10LwTw"
      }
    },
    {
      "cell_type": "code",
      "source": [
        "adam_optimizer = tf.keras.optimizers.Adam(learning_rate=0.001)\n",
        "model.compile(\n",
        "    optimizer=adam_optimizer,\n",
        "    loss=loss,\n",
        "    metrics=['accuracy']\n",
        ")"
      ],
      "metadata": {
        "id": "hRXOB-w92a8N"
      },
      "execution_count": null,
      "outputs": []
    },
    {
      "cell_type": "code",
      "source": [
        "#Early stopping callback will prompt the training to stop if the model is not improving for several epochs.\n",
        "early_stopping_callback = tf.keras.callbacks.EarlyStopping(\n",
        "    patience=5, #setting paitence to 5 means training will stop if no improvement is observed for 5 consecutive epochs.\n",
        "    monitor='loss',\n",
        "    restore_best_weights=True,\n",
        "    verbose=1\n",
        ")"
      ],
      "metadata": {
        "id": "68Hk733C2eTj"
      },
      "execution_count": null,
      "outputs": []
    },
    {
      "cell_type": "markdown",
      "source": [
        "Ensure all checkpoints are saved during training"
      ],
      "metadata": {
        "id": "Mf8EDl96PyZa"
      }
    },
    {
      "cell_type": "code",
      "source": [
        "import platform\n",
        "import time\n",
        "import pathlib\n",
        "import os"
      ],
      "metadata": {
        "id": "usytq9Xl1GBF"
      },
      "execution_count": null,
      "outputs": []
    },
    {
      "cell_type": "markdown",
      "source": [
        "Creating a directory to save the model checkpoints during training, this helps in restoring model later or continue interrupted progress by perodically saving the weights."
      ],
      "metadata": {
        "id": "TEGtopX22evb"
      }
    },
    {
      "cell_type": "code",
      "source": [
        "# Create a checkpoints directory.\n",
        "checkpoint_dir = 'tmp/checkpoints'\n",
        "os.makedirs(checkpoint_dir, exist_ok=True)\n",
        "checkpoint_prefix = os.path.join(checkpoint_dir, 'ckpt_{epoch}')\n",
        "checkpoint_callback=tf.keras.callbacks.ModelCheckpoint(\n",
        "    filepath=checkpoint_prefix,\n",
        "    save_weights_only=True\n",
        ")"
      ],
      "metadata": {
        "id": "pFU_-C_m2g_b"
      },
      "execution_count": null,
      "outputs": []
    },
    {
      "cell_type": "markdown",
      "source": [
        "Specifying the training parameterers. This step underwent lots of trials to fit the avaliable resoucres and optimize the results."
      ],
      "metadata": {
        "id": "aa1o_WEtP68W"
      }
    },
    {
      "cell_type": "code",
      "source": [
        "EPOCHS= 200\n",
        "INITIAL_EPOCH = 1\n",
        "STEPS_PER_EPOCH= TOTAL_RECIPES_NUM // 32\n",
        "\n",
        "print('EPOCHS:          ', EPOCHS)\n",
        "print('INITIAL_EPOCH:   ', INITIAL_EPOCH)\n",
        "print('STEPS_PER_EPOCH: ', STEPS_PER_EPOCH)"
      ],
      "metadata": {
        "colab": {
          "base_uri": "https://localhost:8080/"
        },
        "id": "weERuD_i2nqa",
        "outputId": "d02d2257-1f5a-4211-98e6-1af8d2f49dac"
      },
      "execution_count": null,
      "outputs": [
        {
          "output_type": "stream",
          "name": "stdout",
          "text": [
            "EPOCHS:           200\n",
            "INITIAL_EPOCH:    1\n",
            "STEPS_PER_EPOCH:  27\n"
          ]
        }
      ]
    },
    {
      "cell_type": "markdown",
      "source": [
        "Applying the specified parameters to the model to conduct training."
      ],
      "metadata": {
        "id": "B5XGLIr-Qgz2"
      }
    },
    {
      "cell_type": "code",
      "source": [
        "history = model.fit(\n",
        "    x=dataset_train,\n",
        "    epochs=EPOCHS,\n",
        "    steps_per_epoch=STEPS_PER_EPOCH,\n",
        "    initial_epoch=INITIAL_EPOCH,\n",
        "    callbacks=[\n",
        "        checkpoint_callback,\n",
        "        early_stopping_callback\n",
        "    ]\n",
        "\n",
        ")\n",
        "# Saving the trained model to file (to be able to re-use it later).\n",
        "model_name = 'recipe_generation_rnn_raw.h5'\n",
        "model.save(model_name, save_format='h5')"
      ],
      "metadata": {
        "colab": {
          "base_uri": "https://localhost:8080/"
        },
        "id": "478ZGk3R2rbi",
        "outputId": "a3feeae8-46c1-4d22-b183-7d807273525a"
      },
      "execution_count": null,
      "outputs": [
        {
          "output_type": "stream",
          "name": "stdout",
          "text": [
            "Epoch 2/200\n",
            "27/27 [==============================] - 284s 10s/step - loss: 2.6103 - accuracy: 0.4288\n",
            "Epoch 3/200\n",
            "27/27 [==============================] - 271s 10s/step - loss: 1.8897 - accuracy: 0.5050\n",
            "Epoch 4/200\n",
            "27/27 [==============================] - 272s 10s/step - loss: 1.7427 - accuracy: 0.5311\n",
            "Epoch 5/200\n",
            "27/27 [==============================] - 271s 10s/step - loss: 1.5206 - accuracy: 0.5769\n",
            "Epoch 6/200\n",
            "27/27 [==============================] - 272s 10s/step - loss: 1.3692 - accuracy: 0.6066\n",
            "Epoch 7/200\n",
            "27/27 [==============================] - 274s 10s/step - loss: 1.2614 - accuracy: 0.6313\n",
            "Epoch 8/200\n",
            "27/27 [==============================] - 268s 10s/step - loss: 1.1482 - accuracy: 0.6646\n",
            "Epoch 9/200\n",
            "27/27 [==============================] - 269s 10s/step - loss: 1.0747 - accuracy: 0.6891\n",
            "Epoch 10/200\n",
            "27/27 [==============================] - 269s 10s/step - loss: 0.9691 - accuracy: 0.7215\n",
            "Epoch 11/200\n",
            "27/27 [==============================] - 269s 10s/step - loss: 0.8988 - accuracy: 0.7407\n",
            "Epoch 12/200\n",
            "27/27 [==============================] - 268s 10s/step - loss: 0.8425 - accuracy: 0.7560\n",
            "Epoch 13/200\n",
            "27/27 [==============================] - 269s 10s/step - loss: 0.8298 - accuracy: 0.7595\n",
            "Epoch 14/200\n",
            "27/27 [==============================] - 269s 10s/step - loss: 0.7396 - accuracy: 0.7860\n",
            "Epoch 15/200\n",
            "27/27 [==============================] - 269s 10s/step - loss: 0.6876 - accuracy: 0.8012\n",
            "Epoch 16/200\n",
            "27/27 [==============================] - 268s 10s/step - loss: 0.6476 - accuracy: 0.8131\n",
            "Epoch 17/200\n",
            "27/27 [==============================] - 268s 10s/step - loss: 0.6070 - accuracy: 0.8250\n",
            "Epoch 18/200\n",
            "27/27 [==============================] - 269s 10s/step - loss: 0.5758 - accuracy: 0.8340\n",
            "Epoch 19/200\n",
            "27/27 [==============================] - 269s 10s/step - loss: 0.5493 - accuracy: 0.8410\n",
            "Epoch 20/200\n",
            "27/27 [==============================] - 269s 10s/step - loss: 0.5252 - accuracy: 0.8479\n",
            "Epoch 21/200\n",
            "27/27 [==============================] - 269s 10s/step - loss: 0.5067 - accuracy: 0.8527\n",
            "Epoch 22/200\n",
            "27/27 [==============================] - 270s 10s/step - loss: 0.4814 - accuracy: 0.8598\n",
            "Epoch 23/200\n",
            "27/27 [==============================] - 269s 10s/step - loss: 0.4673 - accuracy: 0.8636\n",
            "Epoch 24/200\n",
            "27/27 [==============================] - 269s 10s/step - loss: 0.4450 - accuracy: 0.8697\n",
            "Epoch 25/200\n",
            "27/27 [==============================] - 269s 10s/step - loss: 0.4402 - accuracy: 0.8705\n",
            "Epoch 26/200\n",
            "27/27 [==============================] - 268s 10s/step - loss: 0.4168 - accuracy: 0.8772\n",
            "Epoch 27/200\n",
            "27/27 [==============================] - 269s 10s/step - loss: 0.4071 - accuracy: 0.8799\n",
            "Epoch 28/200\n",
            "27/27 [==============================] - 269s 10s/step - loss: 0.3935 - accuracy: 0.8835\n",
            "Epoch 29/200\n",
            "27/27 [==============================] - 269s 10s/step - loss: 0.3837 - accuracy: 0.8862\n",
            "Epoch 30/200\n",
            "27/27 [==============================] - 269s 10s/step - loss: 0.3703 - accuracy: 0.8897\n",
            "Epoch 31/200\n",
            "27/27 [==============================] - 269s 10s/step - loss: 0.3598 - accuracy: 0.8928\n",
            "Epoch 32/200\n",
            "27/27 [==============================] - 269s 10s/step - loss: 0.3507 - accuracy: 0.8953\n",
            "Epoch 33/200\n",
            "27/27 [==============================] - 269s 10s/step - loss: 0.3404 - accuracy: 0.8983\n",
            "Epoch 34/200\n",
            "27/27 [==============================] - 268s 10s/step - loss: 0.3258 - accuracy: 0.9027\n",
            "Epoch 35/200\n",
            "27/27 [==============================] - 269s 10s/step - loss: 0.3235 - accuracy: 0.9033\n",
            "Epoch 36/200\n",
            "27/27 [==============================] - 269s 10s/step - loss: 0.3099 - accuracy: 0.9074\n",
            "Epoch 37/200\n",
            "27/27 [==============================] - 268s 10s/step - loss: 0.3040 - accuracy: 0.9092\n",
            "Epoch 38/200\n",
            "27/27 [==============================] - 270s 10s/step - loss: 0.2946 - accuracy: 0.9122\n",
            "Epoch 39/200\n",
            "27/27 [==============================] - 269s 10s/step - loss: 0.2835 - accuracy: 0.9153\n",
            "Epoch 40/200\n",
            "27/27 [==============================] - 270s 10s/step - loss: 0.2742 - accuracy: 0.9185\n",
            "Epoch 41/200\n",
            "27/27 [==============================] - 269s 10s/step - loss: 0.2673 - accuracy: 0.9203\n",
            "Epoch 42/200\n",
            "27/27 [==============================] - 269s 10s/step - loss: 0.2584 - accuracy: 0.9231\n",
            "Epoch 43/200\n",
            "27/27 [==============================] - 269s 10s/step - loss: 0.2488 - accuracy: 0.9264\n",
            "Epoch 44/200\n",
            "27/27 [==============================] - 269s 10s/step - loss: 0.2409 - accuracy: 0.9288\n",
            "Epoch 45/200\n",
            "27/27 [==============================] - 269s 10s/step - loss: 0.2305 - accuracy: 0.9319\n",
            "Epoch 46/200\n",
            "27/27 [==============================] - 269s 10s/step - loss: 0.2257 - accuracy: 0.9333\n",
            "Epoch 47/200\n",
            "27/27 [==============================] - 269s 10s/step - loss: 0.2166 - accuracy: 0.9364\n",
            "Epoch 48/200\n",
            "27/27 [==============================] - 269s 10s/step - loss: 0.2043 - accuracy: 0.9406\n",
            "Epoch 49/200\n",
            "27/27 [==============================] - 269s 10s/step - loss: 0.1964 - accuracy: 0.9429\n",
            "Epoch 50/200\n",
            "27/27 [==============================] - 269s 10s/step - loss: 0.1906 - accuracy: 0.9449\n",
            "Epoch 51/200\n",
            "27/27 [==============================] - 269s 10s/step - loss: 0.1826 - accuracy: 0.9473\n",
            "Epoch 52/200\n",
            "27/27 [==============================] - 269s 10s/step - loss: 0.1719 - accuracy: 0.9511\n",
            "Epoch 53/200\n",
            "27/27 [==============================] - 269s 10s/step - loss: 0.1666 - accuracy: 0.9527\n",
            "Epoch 54/200\n",
            "27/27 [==============================] - 269s 10s/step - loss: 0.1569 - accuracy: 0.9558\n",
            "Epoch 55/200\n",
            "27/27 [==============================] - 269s 10s/step - loss: 0.1483 - accuracy: 0.9590\n",
            "Epoch 56/200\n",
            "27/27 [==============================] - 271s 10s/step - loss: 0.1390 - accuracy: 0.9623\n",
            "Epoch 57/200\n",
            "27/27 [==============================] - 270s 10s/step - loss: 0.1346 - accuracy: 0.9636\n",
            "Epoch 58/200\n",
            "27/27 [==============================] - 270s 10s/step - loss: 0.1286 - accuracy: 0.9656\n",
            "Epoch 59/200\n",
            "27/27 [==============================] - 270s 10s/step - loss: 0.1219 - accuracy: 0.9674\n",
            "Epoch 60/200\n",
            "27/27 [==============================] - 270s 10s/step - loss: 0.1145 - accuracy: 0.9705\n",
            "Epoch 61/200\n",
            "27/27 [==============================] - 270s 10s/step - loss: 0.1085 - accuracy: 0.9723\n",
            "Epoch 62/200\n",
            "27/27 [==============================] - 269s 10s/step - loss: 0.1023 - accuracy: 0.9745\n",
            "Epoch 63/200\n",
            "27/27 [==============================] - 269s 10s/step - loss: 0.0945 - accuracy: 0.9771\n",
            "Epoch 64/200\n",
            "27/27 [==============================] - 269s 10s/step - loss: 0.0904 - accuracy: 0.9785\n",
            "Epoch 65/200\n",
            "27/27 [==============================] - 269s 10s/step - loss: 0.0880 - accuracy: 0.9790\n",
            "Epoch 66/200\n",
            "27/27 [==============================] - 269s 10s/step - loss: 0.0824 - accuracy: 0.9809\n",
            "Epoch 67/200\n",
            "27/27 [==============================] - 269s 10s/step - loss: 0.0769 - accuracy: 0.9827\n",
            "Epoch 68/200\n",
            "27/27 [==============================] - 269s 10s/step - loss: 0.0740 - accuracy: 0.9835\n",
            "Epoch 69/200\n",
            "27/27 [==============================] - 269s 10s/step - loss: 0.0667 - accuracy: 0.9861\n",
            "Epoch 70/200\n",
            "27/27 [==============================] - 269s 10s/step - loss: 0.0626 - accuracy: 0.9874\n",
            "Epoch 71/200\n",
            "27/27 [==============================] - 270s 10s/step - loss: 0.0612 - accuracy: 0.9877\n",
            "Epoch 72/200\n",
            "27/27 [==============================] - 269s 10s/step - loss: 0.0566 - accuracy: 0.9890\n",
            "Epoch 73/200\n",
            "27/27 [==============================] - 269s 10s/step - loss: 0.0546 - accuracy: 0.9894\n",
            "Epoch 74/200\n",
            "27/27 [==============================] - 269s 10s/step - loss: 0.0523 - accuracy: 0.9901\n",
            "Epoch 75/200\n",
            "27/27 [==============================] - 269s 10s/step - loss: 0.0488 - accuracy: 0.9909\n",
            "Epoch 76/200\n",
            "27/27 [==============================] - 269s 10s/step - loss: 0.0456 - accuracy: 0.9920\n",
            "Epoch 77/200\n",
            "27/27 [==============================] - 269s 10s/step - loss: 0.0439 - accuracy: 0.9923\n",
            "Epoch 78/200\n",
            "27/27 [==============================] - 270s 10s/step - loss: 0.0417 - accuracy: 0.9926\n",
            "Epoch 79/200\n",
            "27/27 [==============================] - 270s 10s/step - loss: 0.0404 - accuracy: 0.9929\n",
            "Epoch 80/200\n",
            "27/27 [==============================] - 269s 10s/step - loss: 0.0398 - accuracy: 0.9930\n",
            "Epoch 81/200\n",
            "27/27 [==============================] - 270s 10s/step - loss: 0.0375 - accuracy: 0.9936\n",
            "Epoch 82/200\n",
            "27/27 [==============================] - 269s 10s/step - loss: 0.0343 - accuracy: 0.9944\n",
            "Epoch 83/200\n",
            "27/27 [==============================] - 269s 10s/step - loss: 0.0309 - accuracy: 0.9951\n",
            "Epoch 84/200\n",
            "27/27 [==============================] - 269s 10s/step - loss: 0.0291 - accuracy: 0.9954\n",
            "Epoch 85/200\n",
            "27/27 [==============================] - 270s 10s/step - loss: 0.0270 - accuracy: 0.9957\n",
            "Epoch 86/200\n",
            "27/27 [==============================] - 270s 10s/step - loss: 0.0253 - accuracy: 0.9960\n",
            "Epoch 87/200\n",
            "27/27 [==============================] - 272s 10s/step - loss: 0.0239 - accuracy: 0.9961\n",
            "Epoch 88/200\n",
            "27/27 [==============================] - 276s 10s/step - loss: 0.0231 - accuracy: 0.9963\n",
            "Epoch 89/200\n",
            "27/27 [==============================] - 269s 10s/step - loss: 0.0217 - accuracy: 0.9964\n",
            "Epoch 90/200\n",
            "27/27 [==============================] - 269s 10s/step - loss: 0.0206 - accuracy: 0.9966\n",
            "Epoch 91/200\n",
            "27/27 [==============================] - 269s 10s/step - loss: 0.0197 - accuracy: 0.9967\n",
            "Epoch 92/200\n",
            "27/27 [==============================] - 268s 10s/step - loss: 0.0189 - accuracy: 0.9968\n",
            "Epoch 93/200\n",
            "27/27 [==============================] - 269s 10s/step - loss: 0.0187 - accuracy: 0.9968\n",
            "Epoch 94/200\n",
            "27/27 [==============================] - 268s 10s/step - loss: 0.0190 - accuracy: 0.9968\n",
            "Epoch 95/200\n",
            "27/27 [==============================] - 269s 10s/step - loss: 0.0203 - accuracy: 0.9965\n",
            "Epoch 96/200\n",
            "27/27 [==============================] - 269s 10s/step - loss: 0.2920 - accuracy: 0.9264\n",
            "Epoch 97/200\n",
            "27/27 [==============================] - 269s 10s/step - loss: 0.2622 - accuracy: 0.9171\n",
            "Epoch 98/200\n",
            "27/27 [==============================] - ETA: 0s - loss: 0.1589 - accuracy: 0.9481Restoring model weights from the end of the best epoch: 93.\n",
            "27/27 [==============================] - 268s 10s/step - loss: 0.1589 - accuracy: 0.9481\n",
            "Epoch 98: early stopping\n"
          ]
        },
        {
          "output_type": "stream",
          "name": "stderr",
          "text": [
            "/usr/local/lib/python3.10/dist-packages/keras/src/engine/training.py:3103: UserWarning: You are saving your model as an HDF5 file via `model.save()`. This file format is considered legacy. We recommend using instead the native Keras format, e.g. `model.save('my_model.keras')`.\n",
            "  saving_api.save_model(\n"
          ]
        }
      ]
    },
    {
      "cell_type": "markdown",
      "source": [
        "Observing the decrease in loss in contrast to increasing the number of epochs."
      ],
      "metadata": {
        "id": "SFhcC4qLQy8j"
      }
    },
    {
      "cell_type": "code",
      "source": [
        "def render_training_history(training_history):\n",
        "    loss = training_history.history['loss']\n",
        "    plt.title('Loss')\n",
        "    plt.xlabel('Epoch')\n",
        "    plt.ylabel('Loss')\n",
        "    plt.plot(loss, label='Training set')\n",
        "    plt.legend()\n",
        "    plt.grid(linestyle='--', linewidth=1, alpha=0.5)\n",
        "    plt.show()\n",
        "render_training_history(history)"
      ],
      "metadata": {
        "id": "mxNwGspf2v3D",
        "colab": {
          "base_uri": "https://localhost:8080/",
          "height": 472
        },
        "outputId": "58e8614e-7dc6-4632-fd22-50e3a0f6a24b"
      },
      "execution_count": null,
      "outputs": [
        {
          "output_type": "display_data",
          "data": {
            "text/plain": [
              "<Figure size 640x480 with 1 Axes>"
            ],
            "image/png": "[encoded data removed]"
          },
          "metadata": {}
        }
      ]
    },
    {
      "cell_type": "markdown",
      "source": [
        "Observation: the model performance is getting better during training, which means it is able to predict charachters in which the final sequence looks like a genuine recipe."
      ],
      "metadata": {
        "id": "2B-3pJLLREU4"
      }
    },
    {
      "cell_type": "code",
      "source": [
        "import matplotlib.pyplot as plt\n",
        "\n",
        "def plot_training_accuracy(history):\n",
        "    acc = history.history['accuracy']  # Extract training accuracy\n",
        "    epochs = range(1, len(acc) + 1)\n",
        "\n",
        "    plt.figure(figsize=(8, 6))\n",
        "    plt.plot(epochs, acc, 'b', label='Training Accuracy')\n",
        "    plt.title('Training Accuracy')\n",
        "    plt.xlabel('Epochs')\n",
        "    plt.ylabel('Accuracy')\n",
        "    plt.legend()\n",
        "    plt.grid(linestyle='--', alpha=0.6)\n",
        "    plt.show()\n",
        "\n",
        "plot_training_accuracy(history)\n"
      ],
      "metadata": {
        "colab": {
          "base_uri": "https://localhost:8080/",
          "height": 564
        },
        "id": "7ry-GZoX0Awt",
        "outputId": "7d8b2608-f79f-4c6a-95b1-74c664b38e4c"
      },
      "execution_count": null,
      "outputs": [
        {
          "output_type": "display_data",
          "data": {
            "text/plain": [
              "<Figure size 800x600 with 1 Axes>"
            ],
            "image/png": "[encoded data removed]"
          },
          "metadata": {}
        }
      ]
    },
    {
      "cell_type": "markdown",
      "source": [
        "Accuracy computes the proportion of correctly predicted tokens over the total tokens in the sequence for each batch."
      ],
      "metadata": {
        "id": "tKQcoOJGptcR"
      }
    },
    {
      "cell_type": "code",
      "source": [
        "# Print the final training accuracy in percentage\n",
        "final_accuracy = history.history['accuracy'][-1]\n",
        "print(f\"Final Training Accuracy: {final_accuracy * 100:.2f}%\")\n"
      ],
      "metadata": {
        "colab": {
          "base_uri": "https://localhost:8080/"
        },
        "id": "8eqrF3zYG-64",
        "outputId": "aa536f59-9099-41bd-b01c-0da90564b12c"
      },
      "execution_count": null,
      "outputs": [
        {
          "output_type": "stream",
          "name": "stdout",
          "text": [
            "Final Training Accuracy: 94.81%\n"
          ]
        }
      ]
    },
    {
      "cell_type": "markdown",
      "source": [
        "\n",
        "\n",
        "---\n",
        "\n"
      ],
      "metadata": {
        "id": "tecnY_tWXoUT"
      }
    },
    {
      "cell_type": "markdown",
      "source": [
        "# Recipe Generation"
      ],
      "metadata": {
        "id": "m89-1OnodjFZ"
      }
    },
    {
      "cell_type": "markdown",
      "source": [
        "Restore the latest checkpoint to run the model again. Since RNN only accepts fixed size batches once built we must rebuild it, change the batch size and run it again."
      ],
      "metadata": {
        "id": "hYgRvvaKS6Dv"
      }
    },
    {
      "cell_type": "markdown",
      "source": [
        "\n",
        "\n",
        "---\n",
        "\n"
      ],
      "metadata": {
        "id": "ufEfoJS_3ipK"
      }
    },
    {
      "cell_type": "markdown",
      "source": [
        "Restoring the model's weights from the checkpoint directory made earlier."
      ],
      "metadata": {
        "id": "kBl73GlR3aNJ"
      }
    },
    {
      "cell_type": "code",
      "source": [
        "tf.train.latest_checkpoint(checkpoint_dir)"
      ],
      "metadata": {
        "colab": {
          "base_uri": "https://localhost:8080/",
          "height": 35
        },
        "id": "bpyiy7Bmk5qo",
        "outputId": "89c305a1-4133-43cb-cd03-506f0518f8a3"
      },
      "execution_count": null,
      "outputs": [
        {
          "output_type": "execute_result",
          "data": {
            "text/plain": [
              "'tmp/checkpoints/ckpt_98'"
            ],
            "application/vnd.google.colaboratory.intrinsic+json": {
              "type": "string"
            }
          },
          "metadata": {},
          "execution_count": 57
        }
      ]
    },
    {
      "cell_type": "code",
      "source": [
        "simplified_batch_size = 1\n",
        "model_simplified = build_model(VOCABULARY_SIZE, 256, 1024, simplified_batch_size)\n",
        "model_simplified.load_weights(tf.train.latest_checkpoint(checkpoint_dir))\n",
        "model_simplified.build(tf.TensorShape([simplified_batch_size, None]))\n",
        "model_simplified.summary()"
      ],
      "metadata": {
        "colab": {
          "base_uri": "https://localhost:8080/"
        },
        "id": "3yEkUeOilAiX",
        "outputId": "b011061b-4adb-473a-97c7-0044ecf43d7a"
      },
      "execution_count": null,
      "outputs": [
        {
          "output_type": "stream",
          "name": "stdout",
          "text": [
            "Model: \"sequential_1\"\n",
            "_________________________________________________________________\n",
            " Layer (type)                Output Shape              Param #   \n",
            "=================================================================\n",
            " embedding_1 (Embedding)     (1, None, 256)            23296     \n",
            "                                                                 \n",
            " lstm_1 (LSTM)               (1, None, 1024)           5246976   \n",
            "                                                                 \n",
            " dense_1 (Dense)             (1, None, 91)             93275     \n",
            "                                                                 \n",
            "=================================================================\n",
            "Total params: 5363547 (20.46 MB)\n",
            "Trainable params: 5363547 (20.46 MB)\n",
            "Non-trainable params: 0 (0.00 Byte)\n",
            "_________________________________________________________________\n"
          ]
        }
      ]
    },
    {
      "cell_type": "code",
      "source": [
        "model_simplified.input_shape"
      ],
      "metadata": {
        "colab": {
          "base_uri": "https://localhost:8080/"
        },
        "id": "6en5h7pGlLwW",
        "outputId": "2338720e-baa9-4011-a66e-4bf28218cd84"
      },
      "execution_count": null,
      "outputs": [
        {
          "output_type": "execute_result",
          "data": {
            "text/plain": [
              "(1, None)"
            ]
          },
          "metadata": {},
          "execution_count": 59
        }
      ]
    },
    {
      "cell_type": "markdown",
      "source": [
        "\n",
        "\n",
        "---\n",
        "\n"
      ],
      "metadata": {
        "id": "JZJHzAnXPCL9"
      }
    },
    {
      "cell_type": "markdown",
      "source": [
        "To utilize the trained model for recipe generation, it must progress in the following loop:\n",
        "\n",
        "\n",
        "*   Specify a starting string to feed into the RNN to set the length of characters to generate.\n",
        "*   It predicts the next character (over a probability disitrbution) depending on the RNN state and starting string.\n",
        "*  Sampling the next character so it won't always choose the highest probability\n",
        "* the previous predicted character is the input, RNN state gets updated and fed back into the model to provide context. So, when the model predicts the next character it considers the context and not only one character.\n",
        "* This process is repeated until enough characters are generated.\n"
      ],
      "metadata": {
        "id": "rxW5KwbOdo8D"
      }
    },
    {
      "cell_type": "code",
      "source": [
        "def generate_text(model, start_string, num_generate = 1000, temperature=1.0):\n",
        "    # Evaluation step (generating text using the learned model)\n",
        "    #Specifying a starting delimeter\n",
        "    padded_start_string = '📗 ' + start_string\n",
        "    # Converting our start string to numbers (vectorizing).\n",
        "    input_indices = np.array(tokenizer.texts_to_sequences([padded_start_string]))\n",
        "    # Empty string list to store results.\n",
        "    text_generated = []\n",
        "    # Here batch size == 1.\n",
        "    model.reset_states()\n",
        "    for char_index in range(num_generate):\n",
        "        predictions = model(input_indices)\n",
        "        # remove the batch dimension\n",
        "        predictions = tf.squeeze(predictions, 0)\n",
        "        # Using a categorical distribution to predict the character returned by the model.\n",
        "        predictions = predictions / temperature\n",
        "        predicted_id = tf.random.categorical(\n",
        "            predictions,\n",
        "            num_samples=1\n",
        "        )[-1, 0].numpy()\n",
        "        # We pass the predicted character as the next input to the model\n",
        "        # along with the previous hidden state.\n",
        "        input_indices = tf.expand_dims([predicted_id], 0)\n",
        "\n",
        "        next_character = tokenizer.sequences_to_texts(input_indices.numpy())[0]\n",
        "        text_generated.append(next_character)\n",
        "    return (padded_start_string + ''.join(text_generated))"
      ],
      "metadata": {
        "id": "gZ6F9-LdmbGd"
      },
      "execution_count": null,
      "outputs": []
    },
    {
      "cell_type": "markdown",
      "source": [
        "The temprature parameter specifies a range of randomness until high confidence. Higher Tempratures are more random, while lower are more confident model predictions."
      ],
      "metadata": {
        "id": "xC53DGIeOuXJ"
      }
    },
    {
      "cell_type": "markdown",
      "source": [
        "We tested across different tempratures to find the most optimal one. Further analysis on the results will be discuess in the report."
      ],
      "metadata": {
        "id": "e9wb8Cp8I4cP"
      }
    },
    {
      "cell_type": "code",
      "source": [
        "def generate_combinations(model):\n",
        "    recipe_length = 1000\n",
        "    try_temperature = [1.0, 0.8, 0.7,0.4, 0.2]\n",
        "\n",
        "    for temperature in try_temperature:\n",
        "        generated_text = generate_text(\n",
        "            model,\n",
        "            start_string=\"Title: Chocolate Chip Cookies\\nIngredients: 1 cup butter, 1 cup sugar, 2 cups flour, 1 tsp vanilla, 1 cup chocolate chips\\nDirections:\",\n",
        "            num_generate=recipe_length,\n",
        "            temperature=temperature\n",
        "        )\n",
        "        print(f'Attempt: {temperature}')\n",
        "        print('-----------------------------------')\n",
        "        print(generated_text)\n",
        "        print('\\n\\n')"
      ],
      "metadata": {
        "id": "i0E4MwZMIP6M"
      },
      "execution_count": null,
      "outputs": []
    },
    {
      "cell_type": "code",
      "source": [
        "generate_combinations(model_simplified)"
      ],
      "metadata": {
        "colab": {
          "base_uri": "https://localhost:8080/"
        },
        "id": "9gTxqXx6Wc5x",
        "outputId": "c8287e07-c8f5-410c-b5bd-a881a5e208b8"
      },
      "execution_count": null,
      "outputs": [
        {
          "output_type": "stream",
          "name": "stdout",
          "text": [
            "Attempt: 1.0\n",
            "-----------------------------------\n",
            "📗 Title: Chocolate Chip Cookies\n",
            "Ingredients: 1 cup butter, 1 cup sugar, 2 cups flour, 1 tsp vanilla, 1 cup chocolate chips\n",
            "Directions: Geat muld, over persimmon pulp, and brown sugar together in a separate bowl until creamy and slightly thickened and plum mixture. Cover with tapizalach ary removing sids, star, for 20 minutes.\n",
            "Meanwhile, mix flour, salt, balsamic vinegar, sugar and cinnamon in a small bowl; blend until smooth. Beat in eggs one at a time, beating yee swill to set. Stir in the blueberries, water, halves, cut sauce, dourn rice a gloss black into sligtened. ␣␣␣␣␣␣␣␣␣␣␣␣␣␣␣␣␣␣␣␣␣␣␣␣␣␣␣␣␣␣␣␣␣␣␣␣␣␣␣␣␣␣␣␣␣␣␣␣␣␣␣␣␣␣␣␣␣␣␣␣␣␣␣␣␣␣␣␣␣␣␣␣␣␣␣␣␣␣␣␣␣␣␣␣␣␣␣␣␣␣␣␣␣␣␣␣␣␣␣␣␣␣␣␣␣␣␣␣␣␣␣␣␣␣␣␣␣␣␣␣␣␣␣␣␣␣␣␣␣␣␣␣␣␣␣␣␣␣␣␣␣␣␣␣␣␣␣␣␣␣␣␣␣␣␣␣␣␣␣␣␣␣␣␣␣␣␣␣␣␣␣␣␣␣␣␣␣␣␣␣␣␣␣␣␣␣␣␣␣␣␣␣␣␣␣␣␣␣␣␣␣␣␣␣␣␣␣␣␣␣␣␣␣␣␣␣␣␣␣␣␣␣␣␣␣␣␣␣␣␣␣␣␣␣␣␣␣␣␣␣␣␣␣␣␣␣␣␣␣␣␣␣␣␣␣␣␣␣␣␣␣␣␣␣␣␣␣␣␣␣␣␣␣␣␣␣␣␣␣␣␣␣␣␣␣␣␣␣␣␣␣␣␣␣␣␣␣␣␣␣␣␣␣␣␣␣␣␣␣␣␣␣␣␣␣␣␣␣␣␣␣␣␣␣␣␣␣␣␣␣␣␣␣␣␣␣␣␣␣␣␣␣␣␣␣␣␣␣␣␣␣␣␣␣␣␣␣␣␣␣␣␣␣␣␣␣␣␣␣␣␣␣␣␣␣␣␣␣␣␣␣␣␣␣␣␣␣␣␣␣␣␣␣␣␣␣␣␣␣␣␣␣␣␣␣␣␣␣␣␣␣␣␣␣␣␣␣␣␣␣␣␣␣␣␣␣␣␣␣␣␣␣␣␣␣␣␣␣␣␣␣␣␣␣␣␣␣␣␣␣␣␣␣␣␣␣␣␣␣␣␣␣␣␣␣␣␣␣␣␣␣␣␣␣␣␣␣␣␣␣␣␣␣␣␣␣␣␣␣␣␣␣␣␣␣␣␣␣␣␣␣␣␣␣␣␣␣␣␣␣␣␣␣␣␣␣␣␣␣␣␣␣␣␣␣␣␣␣␣␣␣␣␣␣␣␣␣␣␣␣␣␣␣␣␣␣␣␣␣␣␣␣␣␣␣␣␣␣\n",
            "\n",
            "\n",
            "\n",
            "Attempt: 0.8\n",
            "-----------------------------------\n",
            "📗 Title: Chocolate Chip Cookies\n",
            "Ingredients: 1 cup butter, 1 cup sugar, 2 cups flour, 1 tsp vanilla, 1 cup chocolate chips\n",
            "Directions: Garmela hondeds, then pecans in the preheated oven until the bottoms are lets, 15 to 60 minutes.\n",
            "␣␣␣␣␣␣␣␣␣␣␣␣␣␣␣␣␣␣␣␣␣␣␣␣␣␣␣␣␣␣␣␣␣␣␣␣␣␣␣␣␣␣␣␣␣␣␣␣␣␣␣␣␣␣␣␣␣␣␣␣␣␣␣␣␣␣␣␣␣␣␣␣␣␣␣␣␣␣␣␣␣␣␣␣␣␣␣␣␣␣␣␣␣␣␣␣␣␣␣␣␣␣␣␣␣␣␣␣␣␣␣␣␣␣␣␣␣␣␣␣␣␣␣␣␣␣␣␣␣␣␣␣␣␣␣␣␣␣␣␣␣␣␣␣␣␣␣␣␣␣␣␣␣␣␣␣␣␣␣␣␣␣␣␣␣␣␣␣␣␣␣␣␣␣␣␣␣␣␣␣␣␣␣␣␣␣␣␣␣␣␣␣␣␣␣␣␣␣␣␣␣␣␣␣␣␣␣␣␣␣␣␣␣␣␣␣␣␣␣␣␣␣␣␣␣␣␣␣␣␣␣␣␣␣␣␣␣␣␣␣␣␣␣␣␣␣␣␣␣␣␣␣␣␣␣␣␣␣␣␣␣␣␣␣␣␣␣␣␣␣␣␣␣␣␣␣␣␣␣␣␣␣␣␣␣␣␣␣␣␣␣␣␣␣␣␣␣␣␣␣␣␣␣␣␣␣␣␣␣␣␣␣␣␣␣␣␣␣␣␣␣␣␣␣␣␣␣␣␣␣␣␣␣␣␣␣␣␣␣␣␣␣␣␣␣␣␣␣␣␣␣␣␣␣␣␣␣␣␣␣␣␣␣␣␣␣␣␣␣␣␣␣␣␣␣␣␣␣␣␣␣␣␣␣␣␣␣␣␣␣␣␣␣␣␣␣␣␣␣␣␣␣␣␣␣␣␣␣␣␣␣␣␣␣␣␣␣␣␣␣␣␣␣␣␣␣␣␣␣␣␣␣␣␣␣␣␣␣␣␣␣␣␣␣␣␣␣␣␣␣␣␣␣␣␣␣␣␣␣␣␣␣␣␣␣␣␣␣␣␣␣␣␣␣␣␣␣␣␣␣␣␣␣␣␣␣␣␣␣␣␣␣␣␣␣␣␣␣␣␣␣␣␣␣␣␣␣␣␣␣␣␣␣␣␣␣␣␣␣␣␣␣␣␣␣␣␣␣␣␣␣␣␣␣␣␣␣␣␣␣␣␣␣␣␣␣␣␣␣␣␣␣␣␣␣␣␣␣␣␣␣␣␣␣␣␣␣␣␣␣␣␣␣␣␣␣␣␣␣␣␣␣␣␣␣␣␣␣␣␣␣␣␣␣␣␣␣␣␣␣␣␣␣␣␣␣␣␣␣␣␣␣␣␣␣␣␣␣␣␣␣␣␣␣␣␣␣␣␣␣␣␣␣␣␣␣␣␣␣␣␣␣␣␣␣␣␣␣␣␣␣␣␣␣␣␣␣␣␣␣␣␣␣␣␣␣␣␣␣␣␣␣␣␣␣␣␣␣␣␣␣␣␣␣␣␣␣␣␣␣␣␣␣␣␣␣␣␣␣␣␣␣␣␣␣␣␣␣␣␣␣␣␣␣␣␣␣␣␣␣␣␣␣␣␣␣␣␣␣␣␣␣␣␣␣␣␣␣␣␣␣␣␣␣␣␣␣␣␣␣␣␣␣␣␣␣␣␣␣␣␣␣␣␣␣␣␣␣␣␣␣␣␣␣␣␣␣␣␣␣␣␣␣␣␣␣␣␣␣␣␣␣␣␣␣␣␣␣␣␣␣␣␣␣␣␣␣␣␣␣␣␣␣␣␣␣␣␣␣␣␣␣␣␣␣␣␣␣␣␣␣␣␣␣␣␣␣␣␣␣␣␣␣␣␣␣␣␣␣␣␣␣␣␣␣␣␣␣␣␣␣␣␣␣␣␣␣␣␣␣␣␣␣␣␣␣␣␣␣␣␣␣␣␣␣␣␣␣␣␣␣␣␣␣␣␣␣␣␣␣␣␣\n",
            "\n",
            "\n",
            "\n",
            "Attempt: 0.7\n",
            "-----------------------------------\n",
            "📗 Title: Chocolate Chip Cookies\n",
            "Ingredients: 1 cup butter, 1 cup sugar, 2 cups flour, 1 tsp vanilla, 1 cup chocolate chips\n",
            "Directions: Toss watermelon raisins, 1/4 cup fresh lemon juice, 2 tablespoons olive oil, 1/2 cup fresh lime juice\n",
            "📝\n",
            "Stir together flour, sugar, baking powder, cinnamon, and salt in a large bowl. Spoon mixture into 2 inch refrigerator or or.\n",
            "␣␣␣␣␣␣␣␣␣␣␣␣␣␣␣␣␣␣␣␣␣␣␣␣␣␣␣␣␣␣␣␣␣␣␣␣␣␣␣␣␣␣␣␣␣␣␣␣␣␣␣␣␣␣␣␣␣␣␣␣␣␣␣␣␣␣␣␣␣␣␣␣␣␣␣␣␣␣␣␣␣␣␣␣␣␣␣␣␣␣␣␣␣␣␣␣␣␣␣␣␣␣␣␣␣␣␣␣␣␣␣␣␣␣␣␣␣␣␣␣␣␣␣␣␣␣␣␣␣␣␣␣␣␣␣␣␣␣␣␣␣␣␣␣␣␣␣␣␣␣␣␣␣␣␣␣␣␣␣␣␣␣␣␣␣␣␣␣␣␣␣␣␣␣␣␣␣␣␣␣␣␣␣␣␣␣␣␣␣␣␣␣␣␣␣␣␣␣␣␣␣␣␣␣␣␣␣␣␣␣␣␣␣␣␣␣␣␣␣␣␣␣␣␣␣␣␣␣␣␣␣␣␣␣␣␣␣␣␣␣␣␣␣␣␣␣␣␣␣␣␣␣␣␣␣␣␣␣␣␣␣␣␣␣␣␣␣␣␣␣␣␣␣␣␣␣␣␣␣␣␣␣␣␣␣␣␣␣␣␣␣␣␣␣␣␣␣␣␣␣␣␣␣␣␣␣␣␣␣␣␣␣␣␣␣␣␣␣␣␣␣␣␣␣␣␣␣␣␣␣␣␣␣␣␣␣␣␣␣␣␣␣␣␣␣␣␣␣␣␣␣␣␣␣␣␣␣␣␣␣␣␣␣␣␣␣␣␣␣␣␣␣␣␣␣␣␣␣␣␣␣␣␣␣␣␣␣␣␣␣␣␣␣␣␣␣␣␣␣␣␣␣␣␣␣␣␣␣␣␣␣␣␣␣␣␣␣␣␣␣␣␣␣␣␣␣␣␣␣␣␣␣␣␣␣␣␣␣␣␣␣␣␣␣␣␣␣␣␣␣␣␣␣␣␣␣␣␣␣␣␣␣␣␣␣␣␣␣␣␣␣␣␣␣␣␣␣␣␣␣␣␣␣␣␣␣␣␣␣␣␣␣␣␣␣␣␣␣␣␣␣␣␣␣␣␣␣␣␣␣␣␣␣␣␣␣␣␣␣␣␣␣␣␣␣␣␣␣␣␣␣␣␣␣␣␣␣␣␣␣␣␣␣␣␣␣␣␣␣␣␣␣␣␣␣␣␣␣␣␣␣␣␣␣␣␣␣␣␣␣␣␣␣␣␣␣␣␣␣␣␣␣␣␣␣␣␣␣␣␣␣␣␣␣␣␣␣␣␣␣␣␣␣␣␣␣␣␣␣␣␣␣␣␣␣␣␣␣␣␣␣␣␣␣␣␣␣␣␣␣␣␣␣␣␣␣␣␣␣␣␣␣␣␣␣␣␣␣␣␣␣␣␣␣␣␣␣␣␣␣␣␣␣␣␣␣␣␣␣␣␣␣␣␣␣␣␣␣␣␣␣␣␣␣␣␣␣␣␣␣␣␣␣␣␣␣␣␣␣␣␣␣␣␣␣␣␣␣␣␣␣␣␣␣␣␣␣␣␣␣␣␣␣␣␣␣␣␣␣␣␣␣␣␣␣␣␣␣␣␣␣␣␣␣␣␣␣␣␣␣␣␣␣␣␣␣␣␣␣␣␣␣␣␣␣␣␣␣␣␣\n",
            "\n",
            "\n",
            "\n",
            "Attempt: 0.4\n",
            "-----------------------------------\n",
            "📗 Title: Chocolate Chip Cookies\n",
            "Ingredients: 1 cup butter, 1 cup sugar, 2 cups flour, 1 tsp vanilla, 1 cup chocolate chips\n",
            "Directions: Gradually addicid in heat to egg mixture; toss to coat. Sprinkle with mint of sauce.\n",
            "Refrigerate until serving time. Top with sour cream and sugar and sprinkle with cinnamon.\n",
            "Bake in a preheated 350 degrees F (175 degrees C) oven for 10 to 12 minutes. Transfer cooling completely on a wire rack.\n",
            "␣␣␣␣␣␣␣␣␣␣␣␣␣␣␣␣␣␣␣␣␣␣␣␣␣␣␣␣␣␣␣␣␣␣␣␣␣␣␣␣␣␣␣␣␣␣␣␣␣␣␣␣␣␣␣␣␣␣␣␣␣␣␣␣␣␣␣␣␣␣␣␣␣␣␣␣␣␣␣␣␣␣␣␣␣␣␣␣␣␣␣␣␣␣␣␣␣␣␣␣␣␣␣␣␣␣␣␣␣␣␣␣␣␣␣␣␣␣␣␣␣␣␣␣␣␣␣␣␣␣␣␣␣␣␣␣␣␣␣␣␣␣␣␣␣␣␣␣␣␣␣␣␣␣␣␣␣␣␣␣␣␣␣␣␣␣␣␣␣␣␣␣␣␣␣␣␣␣␣␣␣␣␣␣␣␣␣␣␣␣␣␣␣␣␣␣␣␣␣␣␣␣␣␣␣␣␣␣␣␣␣␣␣␣␣␣␣␣␣␣␣␣␣␣␣␣␣␣␣␣␣␣␣␣␣␣␣␣␣␣␣␣␣␣␣␣␣␣␣␣␣␣␣␣␣␣␣␣␣␣␣␣␣␣␣␣␣␣␣␣␣␣␣␣␣␣␣␣␣␣␣␣␣␣␣␣␣␣␣␣␣␣␣␣␣␣␣␣␣␣␣␣␣␣␣␣␣␣␣␣␣␣␣␣␣␣␣␣␣␣␣␣␣␣␣␣␣␣␣␣␣␣␣␣␣␣␣␣␣␣␣␣␣␣␣␣␣␣␣␣␣␣␣␣␣␣␣␣␣␣␣␣␣␣␣␣␣␣␣␣␣␣␣␣␣␣␣␣␣␣␣␣␣␣␣␣␣␣␣␣␣␣␣␣␣␣␣␣␣␣␣␣␣␣␣␣␣␣␣␣␣␣␣␣␣␣␣␣␣␣␣␣␣␣␣␣␣␣␣␣␣␣␣␣␣␣␣␣␣␣␣␣␣␣␣␣␣␣␣␣␣␣␣␣␣␣␣␣␣␣␣␣␣␣␣␣␣␣␣␣␣␣␣␣␣␣␣␣␣␣␣␣␣␣␣␣␣␣␣␣␣␣␣␣␣␣␣␣␣␣␣␣␣␣␣␣␣␣␣␣␣␣␣␣␣␣␣␣␣␣␣␣␣␣␣␣␣␣␣␣␣␣␣␣␣␣␣␣␣␣␣␣␣␣␣␣␣␣␣␣␣␣␣␣␣␣␣␣␣␣␣␣␣␣␣␣␣␣␣␣␣␣␣␣␣␣␣␣␣␣␣␣␣␣␣␣␣␣␣␣␣␣␣␣␣␣␣␣␣␣␣␣␣␣␣␣␣␣␣␣␣␣␣␣␣␣␣␣␣␣␣␣␣␣␣␣␣␣␣␣␣␣␣␣␣␣␣␣␣␣␣␣␣␣␣␣␣␣␣␣␣␣␣␣␣␣␣␣␣␣␣␣␣␣␣␣␣␣␣␣␣␣␣␣␣␣␣␣␣␣␣␣␣␣␣␣␣␣␣␣␣␣␣␣␣␣␣␣␣␣␣␣␣\n",
            "\n",
            "\n",
            "\n",
            "Attempt: 0.2\n",
            "-----------------------------------\n",
            "📗 Title: Chocolate Chip Cookies\n",
            "Ingredients: 1 cup butter, 1 cup sugar, 2 cups flour, 1 tsp vanilla, 1 cup chocolate chips\n",
            "Directions: Garnish with orange juice, until pine prosting until sugar is dissolved. Pour over apples and continue baking until set, about 5 minutes. Transfer to a wire rack to cool.\n",
            "␣␣␣␣␣␣␣␣␣␣␣␣␣␣␣␣␣␣␣␣␣␣␣␣␣␣␣␣␣␣␣␣␣␣␣␣␣␣␣␣␣␣␣␣␣␣␣␣␣␣␣␣␣␣␣␣␣␣␣␣␣␣␣␣␣␣␣␣␣␣␣␣␣␣␣␣␣␣␣␣␣␣␣␣␣␣␣␣␣␣␣␣␣␣␣␣␣␣␣␣␣␣␣␣␣␣␣␣␣␣␣␣␣␣␣␣␣␣␣␣␣␣␣␣␣␣␣␣␣␣␣␣␣␣␣␣␣␣␣␣␣␣␣␣␣␣␣␣␣␣␣␣␣␣␣␣␣␣␣␣␣␣␣␣␣␣␣␣␣␣␣␣␣␣␣␣␣␣␣␣␣␣␣␣␣␣␣␣␣␣␣␣␣␣␣␣␣␣␣␣␣␣␣␣␣␣␣␣␣␣␣␣␣␣␣␣␣␣␣␣␣␣␣␣␣␣␣␣␣␣␣␣␣␣␣␣␣␣␣␣␣␣␣␣␣␣␣␣␣␣␣␣␣␣␣␣␣␣␣␣␣␣␣␣␣␣␣␣␣␣␣␣␣␣␣␣␣␣␣␣␣␣␣␣␣␣␣␣␣␣␣␣␣␣␣␣␣␣␣␣␣␣␣␣␣␣␣␣␣␣␣␣␣␣␣␣␣␣␣␣␣␣␣␣␣␣␣␣␣␣␣␣␣␣␣␣␣␣␣␣␣␣␣␣␣␣␣␣␣␣␣␣␣␣␣␣␣␣␣␣␣␣␣␣␣␣␣␣␣␣␣␣␣␣␣␣␣␣␣␣␣␣␣␣␣␣␣␣␣␣␣␣␣␣␣␣␣␣␣␣␣␣␣␣␣␣␣␣␣␣␣␣␣␣␣␣␣␣␣␣␣␣␣␣␣␣␣␣␣␣␣␣␣␣␣␣␣␣␣␣␣␣␣␣␣␣␣␣␣␣␣␣␣␣␣␣␣␣␣␣␣␣␣␣␣␣␣␣␣␣␣␣␣␣␣␣␣␣␣␣␣␣␣␣␣␣␣␣␣␣␣␣␣␣␣␣␣␣␣␣␣␣␣␣␣␣␣␣␣␣␣␣␣␣␣␣␣␣␣␣␣␣␣␣␣␣␣␣␣␣␣␣␣␣␣␣␣␣␣␣␣␣␣␣␣␣␣␣␣␣␣␣␣␣␣␣␣␣␣␣␣␣␣␣␣␣␣␣␣␣␣␣␣␣␣␣␣␣␣␣␣␣␣␣␣␣␣␣␣␣␣␣␣␣␣␣␣␣␣␣␣␣␣␣␣␣␣␣␣␣␣␣␣␣␣␣␣␣␣␣␣␣␣␣␣␣␣␣␣␣␣␣␣␣␣␣␣␣␣␣␣␣␣␣␣␣␣␣␣␣␣␣␣␣␣␣␣␣␣␣␣␣␣␣␣␣␣␣␣␣␣␣␣␣␣␣␣␣␣␣␣␣␣␣␣␣␣␣␣␣␣␣␣␣␣␣␣␣␣␣␣␣␣␣␣␣␣␣␣␣␣␣␣␣␣␣␣␣␣␣␣␣␣␣␣␣␣␣␣␣␣␣␣␣␣␣␣␣␣␣␣␣␣␣␣␣␣␣␣␣␣␣␣␣␣␣␣␣␣␣␣␣␣␣␣␣␣␣␣␣␣␣␣␣␣␣␣␣␣␣␣␣␣␣␣␣␣␣␣␣␣␣␣␣␣␣␣␣␣␣␣␣␣␣␣␣␣␣␣␣␣␣␣␣␣␣␣␣␣␣␣␣␣␣␣␣␣␣\n",
            "\n",
            "\n",
            "\n"
          ]
        }
      ]
    },
    {
      "cell_type": "markdown",
      "source": [
        "Resources used:\n",
        "\n",
        "\n",
        "*   https://towardsdatascience.com/generating-cooking-recipes-using-tensorflow-and-lstm-recurrent-neural-network-a7bf242acad3\n",
        "*   https://www.tensorflow.org/text/tutorials/text_generation\n",
        "\n"
      ],
      "metadata": {
        "id": "bhpiFpcMXCnO"
      }
    }
  ]
}